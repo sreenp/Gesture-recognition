{
  "cells": [
    {
      "cell_type": "code",
      "source": [
        "pip install Pillow"
      ],
      "metadata": {
        "colab": {
          "base_uri": "https://localhost:8080/"
        },
        "id": "UDlb8zqH4_OM",
        "outputId": "262fdb49-eed8-4b51-b2c2-f865a9fff249"
      },
      "execution_count": null,
      "outputs": [
        {
          "output_type": "stream",
          "name": "stdout",
          "text": [
            "Requirement already satisfied: Pillow in /usr/local/lib/python3.7/dist-packages (7.1.2)\n"
          ]
        }
      ]
    },
    {
      "cell_type": "code",
      "execution_count": null,
      "metadata": {
        "id": "HuShVSIB2dCW"
      },
      "outputs": [],
      "source": [
        "import numpy as np\n",
        "import os\n",
        "from imageio import imread\n",
        "import datetime\n",
        "import os\n",
        "import warnings\n",
        "warnings.filterwarnings(\"ignore\")\n",
        "import abc\n",
        "from sys import getsizeof\n",
        "import tensorflow as tf "
      ]
    },
    {
      "cell_type": "markdown",
      "metadata": {
        "id": "im1FbgzL2dCQ"
      },
      "source": [
        "# Gesture Recognition\n",
        "In this group project, you are going to build a 3D Conv model that will be able to predict the 5 gestures correctly. Please import the following libraries to get started."
      ]
    },
    {
      "cell_type": "markdown",
      "metadata": {
        "id": "b-qQ8zQQ2dCY"
      },
      "source": [
        "We set the random seed so that the results don't vary drastically."
      ]
    },
    {
      "cell_type": "code",
      "execution_count": null,
      "metadata": {
        "id": "JyXL7ZvT2dCZ"
      },
      "outputs": [],
      "source": [
        "np.random.seed(30)\n",
        "import random as rn\n",
        "rn.seed(30)\n",
        "from keras import backend as K\n",
        "import tensorflow as tf\n",
        "tf.random.set_seed(30)"
      ]
    },
    {
      "cell_type": "code",
      "source": [
        "import cv2\n",
        "import matplotlib.pyplot as plt\n",
        "% matplotlib inline"
      ],
      "metadata": {
        "id": "TZIvEshU7BaE"
      },
      "execution_count": null,
      "outputs": []
    },
    {
      "cell_type": "code",
      "source": [
        "from google.colab import drive\n",
        "drive.mount('/content/gdrive')"
      ],
      "metadata": {
        "id": "nzuzKz83_Y84",
        "colab": {
          "base_uri": "https://localhost:8080/"
        },
        "outputId": "2417fdd2-7e1e-4cc4-eee2-2cb86e595f3f"
      },
      "execution_count": null,
      "outputs": [
        {
          "output_type": "stream",
          "name": "stdout",
          "text": [
            "Mounted at /content/gdrive\n"
          ]
        }
      ]
    },
    {
      "cell_type": "code",
      "source": [
        "project_folder='/content/gdrive/My Drive/Colab Notebooks/GestureRecognition/Project/Project_data'"
      ],
      "metadata": {
        "id": "haQmTmlmMEbV"
      },
      "execution_count": null,
      "outputs": []
    },
    {
      "cell_type": "markdown",
      "metadata": {
        "id": "nnx1UjYp2dCa"
      },
      "source": [
        "In this block, you read the folder names for training and validation. You also set the `batch_size` here. Note that you set the batch size in such a way that you are able to use the GPU in full capacity. You keep increasing the batch size until the machine throws an error."
      ]
    },
    {
      "cell_type": "code",
      "execution_count": null,
      "metadata": {
        "id": "aOEZmGuq2dCb"
      },
      "outputs": [],
      "source": [
        "train_doc = np.random.permutation(open(project_folder + '/' + 'train.csv').readlines())\n",
        "val_doc = np.random.permutation(open(project_folder + '/' + 'val.csv').readlines())\n",
        "batch_size = 20\n",
        "train_path = project_folder + '/' + 'train'\n",
        "val_path =  project_folder + '/' + 'val'"
      ]
    },
    {
      "cell_type": "code",
      "source": [
        "#image properties \n",
        "image_height=100\n",
        "image_width=100\n",
        "channels=3\n",
        "num_classes=5\n",
        "total_frames=30\n",
        "frames_to_sample=30\n",
        "batch_size=20\n",
        "num_epochs=20\n",
        "print ('# epochs =', num_epochs)"
      ],
      "metadata": {
        "colab": {
          "base_uri": "https://localhost:8080/"
        },
        "id": "E7a9y_GzPbNp",
        "outputId": "aaa5e525-d2c8-439f-f7e0-6916b26c5b25"
      },
      "execution_count": null,
      "outputs": [
        {
          "output_type": "stream",
          "name": "stdout",
          "text": [
            "# epochs = 20\n"
          ]
        }
      ]
    },
    {
      "cell_type": "code",
      "source": [
        "num_train_sequences = len(train_doc)"
      ],
      "metadata": {
        "id": "cIR_BoqqM1H5"
      },
      "execution_count": null,
      "outputs": []
    },
    {
      "cell_type": "code",
      "source": [
        "num_val_sequences = len(val_doc)"
      ],
      "metadata": {
        "id": "k3A4sVZHM5pC"
      },
      "execution_count": null,
      "outputs": []
    },
    {
      "cell_type": "code",
      "source": [
        "print('# training sequences =', num_train_sequences)"
      ],
      "metadata": {
        "colab": {
          "base_uri": "https://localhost:8080/"
        },
        "id": "TWQGlUgnNXWC",
        "outputId": "59059d3a-ac1b-46d1-85cd-d0c19a144ecd"
      },
      "execution_count": null,
      "outputs": [
        {
          "output_type": "stream",
          "name": "stdout",
          "text": [
            "# training sequences = 663\n"
          ]
        }
      ]
    },
    {
      "cell_type": "code",
      "source": [
        "print(num_val_sequences)\n",
        "print('# validation sequences =', num_val_sequences)"
      ],
      "metadata": {
        "colab": {
          "base_uri": "https://localhost:8080/"
        },
        "id": "SbrrIUebNb2I",
        "outputId": "765ff330-5f65-4c6d-8320-bca661101ea1"
      },
      "execution_count": null,
      "outputs": [
        {
          "output_type": "stream",
          "name": "stdout",
          "text": [
            "100\n",
            "# validation sequences = 100\n"
          ]
        }
      ]
    },
    {
      "cell_type": "markdown",
      "metadata": {
        "id": "EN_l90692dCc"
      },
      "source": [
        "## Generator\n",
        "This is one of the most important part of the code. The overall structure of the generator has been given. In the generator, you are going to preprocess the images as you have images of 2 different dimensions as well as create a batch of video frames. You have to experiment with `img_idx`, `y`,`z` and normalization such that you get high accuracy."
      ]
    },
    {
      "cell_type": "code",
      "source": [
        "img_idx = np.round(np.linspace(0,total_frames-1,frames_to_sample)).astype(int)\n",
        "print(img_idx)"
      ],
      "metadata": {
        "colab": {
          "base_uri": "https://localhost:8080/"
        },
        "id": "inBAxbgSYnwN",
        "outputId": "08507f59-7872-482c-cde9-047adb54613f"
      },
      "execution_count": null,
      "outputs": [
        {
          "output_type": "stream",
          "name": "stdout",
          "text": [
            "[ 0  1  2  3  4  5  6  7  8  9 10 11 12 13 14 15 16 17 18 19 20 21 22 23\n",
            " 24 25 26 27 28 29]\n"
          ]
        }
      ]
    },
    {
      "cell_type": "code",
      "execution_count": null,
      "metadata": {
        "id": "2qicWhoH2dCd"
      },
      "outputs": [],
      "source": [
        "def generator(source_path, folder_list, batch_size,augment = False):\n",
        "    print( 'Source path = ', source_path, '; batch size =', batch_size)\n",
        "    #create a list of image numbers you want to use for a particular video\n",
        "    img_idx = np.round(np.linspace(0,total_frames-1,frames_to_sample)).astype(int)  \n",
        "    while True:\n",
        "        t = np.random.permutation(folder_list)\n",
        "        # calculate the number of batches\n",
        "        num_batches =  len(t)//batch_size\n",
        "        for batch in range(num_batches): \n",
        "                batch_data, batch_labels= process_batch(source_path,t,batch,batch_size,img_idx)\n",
        "                yield batch_data, batch_labels \n",
        "\n",
        "        remaining_seq=len(t)%batch_size\n",
        "        \n",
        "        if (remaining_seq != 0):\n",
        "                batch_data, batch_labels= process_batch(source_path,t,num_batches,batch_size,img_idx,remaining_seq)\n",
        "                yield batch_data, batch_labels       \n",
        "\n",
        "    \n",
        "        # write the code for the remaining data points which are left after full batches\n"
      ]
    },
    {
      "cell_type": "code",
      "source": [
        "def process_batch(source_path,t,batch,batch_size,img_idx,remaining_seq=0):\n",
        "    \n",
        "        seq_len = remaining_seq if remaining_seq else batch_size\n",
        "    \n",
        "        batch_data = np.zeros((seq_len,len(img_idx),image_height,image_width,channels)) \n",
        "        batch_labels = np.zeros((seq_len,num_classes))    \n",
        "        \n",
        "        for folder in range(seq_len): \n",
        "            imgs = os.listdir(source_path+'/'+ t[folder + (batch*batch_size)].split(';')[0]) \n",
        "            for idx,item in enumerate(img_idx):\n",
        "                #performing image reading and resizing\n",
        "                image = imread(source_path+'/'+ t[folder + (batch*batch_size)].strip().split(';')[0]+'/'+imgs[item]).astype(np.float32)\n",
        "                #crop the images and resize them. Note that the images are of 2 different shape \n",
        "                #and the conv3D will throw error if the inputs in a batch have different shapes\n",
        "                size=(image_height,image_width)\n",
        "                image_resized=cv2.resize(image, size)          \n",
        "                batch_data[folder,idx,:,:,0] =(image_resized[:,:,0])/255\n",
        "                batch_data[folder,idx,:,:,1] = (image_resized[:,:,1])/255\n",
        "                batch_data[folder,idx,:,:,2] = (image_resized[:,:,2])/255            \n",
        "            batch_labels[folder, int(t[folder + (batch*batch_size)].strip().split(';')[2])] = 1          \n",
        "        return(batch_data,batch_labels)"
      ],
      "metadata": {
        "id": "aEm-QCrZfu0Q"
      },
      "execution_count": null,
      "outputs": []
    },
    {
      "cell_type": "markdown",
      "metadata": {
        "id": "9lVmLI1p2dCf"
      },
      "source": [
        "Note here that a video is represented above in the generator as (number of images, height, width, number of channels). Take this into consideration while creating the model architecture."
      ]
    },
    {
      "cell_type": "code",
      "execution_count": null,
      "metadata": {
        "id": "yrn7XwG-2dCh"
      },
      "outputs": [],
      "source": [
        "curr_dt_time = datetime.datetime.now()"
      ]
    },
    {
      "cell_type": "markdown",
      "metadata": {
        "id": "6BEjmhid2dCi"
      },
      "source": [
        "## Model\n",
        "Here you make the model using different functionalities that Keras provides. Remember to use `Conv3D` and `MaxPooling3D` and not `Conv2D` and `Maxpooling2D` for a 3D convolution model. You would want to use `TimeDistributed` while building a Conv2D + RNN model. Also remember that the last layer is the softmax. Design the network in such a way that the model is able to give good accuracy on the least number of parameters so that it can fit in the memory of the webcam."
      ]
    },
    {
      "cell_type": "code",
      "execution_count": null,
      "metadata": {
        "id": "4GVwfKOp2dCj"
      },
      "outputs": [],
      "source": [
        "from keras.models import Sequential, Model\n",
        "from keras.layers import Dense, GRU, Flatten, TimeDistributed, Flatten, BatchNormalization, Activation\n",
        "from keras.layers.convolutional import Conv3D, MaxPooling3D, Conv2D, MaxPooling2D\n",
        "from keras.layers.recurrent import LSTM\n",
        "from keras.callbacks import ModelCheckpoint, ReduceLROnPlateau, EarlyStopping\n",
        "from keras import optimizers\n",
        "from keras.layers import Dropout\n",
        "\n",
        "#write your model here"
      ]
    },
    {
      "cell_type": "code",
      "source": [
        "#image properties \n",
        "image_height=160\n",
        "image_width=160\n",
        "channels=3\n",
        "num_classes=5\n",
        "total_frames=30\n",
        "frames_to_sample=20\n",
        "batch_size=40\n",
        "num_epochs=15\n",
        "dense_neurons=64\n",
        "dropout=0.25\n",
        "filtersize=(3,3,3)\n",
        "print ('# epochs =', num_epochs)"
      ],
      "metadata": {
        "colab": {
          "base_uri": "https://localhost:8080/"
        },
        "id": "zgu0Cc35qRn3",
        "outputId": "69562b7f-3aea-472b-b1b5-efa15ff0f08e"
      },
      "execution_count": null,
      "outputs": [
        {
          "output_type": "stream",
          "name": "stdout",
          "text": [
            "# epochs = 15\n"
          ]
        }
      ]
    },
    {
      "cell_type": "code",
      "source": [
        "model = Sequential()\n",
        "model.add(Conv3D(16, (3, 3, 3), padding='same',\n",
        "input_shape=(frames_to_sample,image_height,image_width,channels)))\n",
        "model.add(Activation('relu'))\n",
        "model.add(BatchNormalization())\n",
        "model.add(MaxPooling3D(pool_size=(2, 2, 2)))\n"
      ],
      "metadata": {
        "id": "BWWFPrLrsap4"
      },
      "execution_count": null,
      "outputs": []
    },
    {
      "cell_type": "code",
      "source": [
        "model.add(Conv3D(32, (2, 2, 2), padding='same'))\n",
        "model.add(Activation('relu'))\n",
        "model.add(BatchNormalization())\n",
        "model.add(MaxPooling3D(pool_size=(2, 2, 2)))"
      ],
      "metadata": {
        "id": "i96wLqq3tCUa"
      },
      "execution_count": null,
      "outputs": []
    },
    {
      "cell_type": "code",
      "source": [
        "model.add(Conv3D(64, (2, 2, 2), padding='same'))\n",
        "model.add(Activation('relu'))\n",
        "model.add(BatchNormalization())\n",
        "model.add(MaxPooling3D(pool_size=(2, 2, 2)))\n"
      ],
      "metadata": {
        "id": "x8goo3WUtLQJ"
      },
      "execution_count": null,
      "outputs": []
    },
    {
      "cell_type": "code",
      "source": [
        "model.add(Conv3D(128, (2, 2, 2), padding='same'))\n",
        "model.add(Activation('relu'))\n",
        "model.add(BatchNormalization())\n",
        "model.add(MaxPooling3D(pool_size=(2, 2, 2)))"
      ],
      "metadata": {
        "id": "AAqTK7GythWf"
      },
      "execution_count": null,
      "outputs": []
    },
    {
      "cell_type": "code",
      "source": [
        "model.add(Flatten())\n",
        "model.add(Dense(128,activation='relu'))\n",
        "model.add(BatchNormalization())\n",
        "model.add(Dropout(0.5))"
      ],
      "metadata": {
        "id": "J5N0b2X2tpet"
      },
      "execution_count": null,
      "outputs": []
    },
    {
      "cell_type": "code",
      "source": [
        "model.add(Dense(64,activation='relu'))\n",
        "model.add(BatchNormalization())\n",
        "model.add(Dropout(0.25))"
      ],
      "metadata": {
        "id": "zusAZ4RsuUzK"
      },
      "execution_count": null,
      "outputs": []
    },
    {
      "cell_type": "code",
      "source": [
        "model.add(Dense(num_classes,activation='softmax'))\n",
        "\n",
        "optimiser = 'adam'\n",
        "        #optimiser = 'sgd'\n",
        "model.compile(optimizer=optimiser, loss='categorical_crossentropy', metrics=['categorical_accuracy'])"
      ],
      "metadata": {
        "id": "3EM8a6pAub5N"
      },
      "execution_count": null,
      "outputs": []
    },
    {
      "cell_type": "markdown",
      "metadata": {
        "id": "fOFGydmU2dCj"
      },
      "source": [
        "Now that you have written the model, the next step is to `compile` the model. When you print the `summary` of the model, you'll see the total number of parameters you have to train."
      ]
    },
    {
      "cell_type": "code",
      "execution_count": null,
      "metadata": {
        "scrolled": true,
        "id": "dwNPkPoo2dCk",
        "colab": {
          "base_uri": "https://localhost:8080/"
        },
        "outputId": "8d745148-2c75-4c7c-c394-a0beec3c3514"
      },
      "outputs": [
        {
          "output_type": "stream",
          "name": "stdout",
          "text": [
            "Model: \"sequential\"\n",
            "_________________________________________________________________\n",
            " Layer (type)                Output Shape              Param #   \n",
            "=================================================================\n",
            " conv3d (Conv3D)             (None, 20, 160, 160, 16)  1312      \n",
            "                                                                 \n",
            " activation (Activation)     (None, 20, 160, 160, 16)  0         \n",
            "                                                                 \n",
            " batch_normalization (BatchN  (None, 20, 160, 160, 16)  64       \n",
            " ormalization)                                                   \n",
            "                                                                 \n",
            " max_pooling3d (MaxPooling3D  (None, 10, 80, 80, 16)   0         \n",
            " )                                                               \n",
            "                                                                 \n",
            " conv3d_1 (Conv3D)           (None, 10, 80, 80, 32)    4128      \n",
            "                                                                 \n",
            " activation_1 (Activation)   (None, 10, 80, 80, 32)    0         \n",
            "                                                                 \n",
            " batch_normalization_1 (Batc  (None, 10, 80, 80, 32)   128       \n",
            " hNormalization)                                                 \n",
            "                                                                 \n",
            " max_pooling3d_1 (MaxPooling  (None, 5, 40, 40, 32)    0         \n",
            " 3D)                                                             \n",
            "                                                                 \n",
            " conv3d_2 (Conv3D)           (None, 5, 40, 40, 64)     16448     \n",
            "                                                                 \n",
            " activation_2 (Activation)   (None, 5, 40, 40, 64)     0         \n",
            "                                                                 \n",
            " batch_normalization_2 (Batc  (None, 5, 40, 40, 64)    256       \n",
            " hNormalization)                                                 \n",
            "                                                                 \n",
            " max_pooling3d_2 (MaxPooling  (None, 2, 20, 20, 64)    0         \n",
            " 3D)                                                             \n",
            "                                                                 \n",
            " conv3d_3 (Conv3D)           (None, 2, 20, 20, 128)    65664     \n",
            "                                                                 \n",
            " activation_3 (Activation)   (None, 2, 20, 20, 128)    0         \n",
            "                                                                 \n",
            " batch_normalization_3 (Batc  (None, 2, 20, 20, 128)   512       \n",
            " hNormalization)                                                 \n",
            "                                                                 \n",
            " max_pooling3d_3 (MaxPooling  (None, 1, 10, 10, 128)   0         \n",
            " 3D)                                                             \n",
            "                                                                 \n",
            " flatten (Flatten)           (None, 12800)             0         \n",
            "                                                                 \n",
            " dense (Dense)               (None, 128)               1638528   \n",
            "                                                                 \n",
            " batch_normalization_4 (Batc  (None, 128)              512       \n",
            " hNormalization)                                                 \n",
            "                                                                 \n",
            " dropout (Dropout)           (None, 128)               0         \n",
            "                                                                 \n",
            " dense_1 (Dense)             (None, 64)                8256      \n",
            "                                                                 \n",
            " batch_normalization_5 (Batc  (None, 64)               256       \n",
            " hNormalization)                                                 \n",
            "                                                                 \n",
            " dropout_1 (Dropout)         (None, 64)                0         \n",
            "                                                                 \n",
            " dense_2 (Dense)             (None, 5)                 325       \n",
            "                                                                 \n",
            "=================================================================\n",
            "Total params: 1,736,389\n",
            "Trainable params: 1,735,525\n",
            "Non-trainable params: 864\n",
            "_________________________________________________________________\n",
            "None\n"
          ]
        }
      ],
      "source": [
        "print (model.summary())"
      ]
    },
    {
      "cell_type": "markdown",
      "metadata": {
        "id": "_RWQQam12dCk"
      },
      "source": [
        "Let us create the `train_generator` and the `val_generator` which will be used in `.fit_generator`."
      ]
    },
    {
      "cell_type": "code",
      "execution_count": null,
      "metadata": {
        "id": "8NMoo-Um2dCk"
      },
      "outputs": [],
      "source": [
        "train_generator = generator(train_path, train_doc, batch_size)\n",
        "val_generator = generator(val_path, val_doc, batch_size)"
      ]
    },
    {
      "cell_type": "code",
      "execution_count": null,
      "metadata": {
        "id": "DXKWQ0a12dCl",
        "colab": {
          "base_uri": "https://localhost:8080/"
        },
        "outputId": "68631e83-9243-41ca-9387-5c94da145011"
      },
      "outputs": [
        {
          "output_type": "stream",
          "name": "stdout",
          "text": [
            "WARNING:tensorflow:`period` argument is deprecated. Please use `save_freq` to specify the frequency in number of batches seen.\n"
          ]
        }
      ],
      "source": [
        "model_name = 'model_init' + '_' + str(curr_dt_time).replace(' ','').replace(':','_') + '/'\n",
        "    \n",
        "if not os.path.exists(model_name):\n",
        "    os.mkdir(model_name)\n",
        "        \n",
        "filepath = model_name + 'model-{epoch:05d}-{loss:.5f}-{categorical_accuracy:.5f}-{val_loss:.5f}-{val_categorical_accuracy:.5f}.h5'\n",
        "\n",
        "checkpoint = ModelCheckpoint(filepath, monitor='val_loss', verbose=1, save_best_only=False, save_weights_only=False, mode='auto', period=1)\n",
        "\n",
        "LR = ReduceLROnPlateau(monitor='val_loss', factor=0.2, verbose=1, patience=4)\n",
        "callbacks_list = [checkpoint, LR]"
      ]
    },
    {
      "cell_type": "markdown",
      "metadata": {
        "id": "VRvQJK1N2dCl"
      },
      "source": [
        "The `steps_per_epoch` and `validation_steps` are used by `fit_generator` to decide the number of next() calls it need to make."
      ]
    },
    {
      "cell_type": "code",
      "execution_count": null,
      "metadata": {
        "id": "bVDM50V_2dCl"
      },
      "outputs": [],
      "source": [
        "if (num_train_sequences%batch_size) == 0:\n",
        "    steps_per_epoch = int(num_train_sequences/batch_size)\n",
        "else:\n",
        "    steps_per_epoch = (num_train_sequences//batch_size) + 1\n",
        "\n",
        "if (num_val_sequences%batch_size) == 0:\n",
        "    validation_steps = int(num_val_sequences/batch_size)\n",
        "else:\n",
        "    validation_steps = (num_val_sequences//batch_size) + 1"
      ]
    },
    {
      "cell_type": "markdown",
      "metadata": {
        "id": "yVaxuVfw2dCm"
      },
      "source": [
        "Let us now fit the model. This will start training the model and with the help of the checkpoints, you'll be able to save the model at the end of each epoch."
      ]
    },
    {
      "cell_type": "code",
      "execution_count": null,
      "metadata": {
        "id": "_j6j9Tvs2dCn",
        "colab": {
          "base_uri": "https://localhost:8080/"
        },
        "outputId": "da8cfbfd-f714-4c5d-9983-4d1381653977"
      },
      "outputs": [
        {
          "output_type": "stream",
          "name": "stdout",
          "text": [
            "Source path =  /content/gdrive/My Drive/Colab Notebooks/GestureRecognition/Project/Project_data/train ; batch size = 40\n",
            "Epoch 1/15\n",
            "17/17 [==============================] - ETA: 0s - loss: 1.5484 - categorical_accuracy: 0.4118  Source path =  /content/gdrive/My Drive/Colab Notebooks/GestureRecognition/Project/Project_data/val ; batch size = 40\n",
            "\n",
            "Epoch 1: saving model to model_init_2022-05-1422_19_53.823618/model-00001-1.54840-0.41176-2.25299-0.23000.h5\n",
            "17/17 [==============================] - 4940s 308s/step - loss: 1.5484 - categorical_accuracy: 0.4118 - val_loss: 2.2530 - val_categorical_accuracy: 0.2300 - lr: 0.0010\n",
            "Epoch 2/15\n",
            "17/17 [==============================] - ETA: 0s - loss: 0.8502 - categorical_accuracy: 0.6561\n",
            "Epoch 2: saving model to model_init_2022-05-1422_19_53.823618/model-00002-0.85021-0.65611-4.68669-0.21000.h5\n",
            "17/17 [==============================] - 62s 4s/step - loss: 0.8502 - categorical_accuracy: 0.6561 - val_loss: 4.6867 - val_categorical_accuracy: 0.2100 - lr: 0.0010\n",
            "Epoch 3/15\n",
            "17/17 [==============================] - ETA: 0s - loss: 0.5490 - categorical_accuracy: 0.8039\n",
            "Epoch 3: saving model to model_init_2022-05-1422_19_53.823618/model-00003-0.54903-0.80392-5.18026-0.17000.h5\n",
            "17/17 [==============================] - 60s 4s/step - loss: 0.5490 - categorical_accuracy: 0.8039 - val_loss: 5.1803 - val_categorical_accuracy: 0.1700 - lr: 0.0010\n",
            "Epoch 4/15\n",
            "17/17 [==============================] - ETA: 0s - loss: 0.3827 - categorical_accuracy: 0.8748\n",
            "Epoch 4: saving model to model_init_2022-05-1422_19_53.823618/model-00004-0.38274-0.87481-6.13644-0.16000.h5\n",
            "17/17 [==============================] - 62s 4s/step - loss: 0.3827 - categorical_accuracy: 0.8748 - val_loss: 6.1364 - val_categorical_accuracy: 0.1600 - lr: 0.0010\n",
            "Epoch 5/15\n",
            "17/17 [==============================] - ETA: 0s - loss: 0.4187 - categorical_accuracy: 0.8522\n",
            "Epoch 5: saving model to model_init_2022-05-1422_19_53.823618/model-00005-0.41870-0.85219-6.57983-0.18000.h5\n",
            "\n",
            "Epoch 5: ReduceLROnPlateau reducing learning rate to 0.00020000000949949026.\n",
            "17/17 [==============================] - 62s 4s/step - loss: 0.4187 - categorical_accuracy: 0.8522 - val_loss: 6.5798 - val_categorical_accuracy: 0.1800 - lr: 0.0010\n",
            "Epoch 6/15\n",
            "17/17 [==============================] - ETA: 0s - loss: 0.2905 - categorical_accuracy: 0.8839\n",
            "Epoch 6: saving model to model_init_2022-05-1422_19_53.823618/model-00006-0.29053-0.88386-6.76484-0.22000.h5\n",
            "17/17 [==============================] - 61s 4s/step - loss: 0.2905 - categorical_accuracy: 0.8839 - val_loss: 6.7648 - val_categorical_accuracy: 0.2200 - lr: 2.0000e-04\n",
            "Epoch 7/15\n",
            "17/17 [==============================] - ETA: 0s - loss: 0.2231 - categorical_accuracy: 0.9367\n",
            "Epoch 7: saving model to model_init_2022-05-1422_19_53.823618/model-00007-0.22307-0.93665-6.58563-0.24000.h5\n",
            "17/17 [==============================] - 62s 4s/step - loss: 0.2231 - categorical_accuracy: 0.9367 - val_loss: 6.5856 - val_categorical_accuracy: 0.2400 - lr: 2.0000e-04\n",
            "Epoch 8/15\n",
            "17/17 [==============================] - ETA: 0s - loss: 0.2092 - categorical_accuracy: 0.9457\n",
            "Epoch 8: saving model to model_init_2022-05-1422_19_53.823618/model-00008-0.20920-0.94570-7.36858-0.18000.h5\n",
            "17/17 [==============================] - 62s 4s/step - loss: 0.2092 - categorical_accuracy: 0.9457 - val_loss: 7.3686 - val_categorical_accuracy: 0.1800 - lr: 2.0000e-04\n",
            "Epoch 9/15\n",
            "17/17 [==============================] - ETA: 0s - loss: 0.1781 - categorical_accuracy: 0.9593\n",
            "Epoch 9: saving model to model_init_2022-05-1422_19_53.823618/model-00009-0.17814-0.95928-6.31482-0.24000.h5\n",
            "\n",
            "Epoch 9: ReduceLROnPlateau reducing learning rate to 4.0000001899898055e-05.\n",
            "17/17 [==============================] - 61s 4s/step - loss: 0.1781 - categorical_accuracy: 0.9593 - val_loss: 6.3148 - val_categorical_accuracy: 0.2400 - lr: 2.0000e-04\n",
            "Epoch 10/15\n",
            "17/17 [==============================] - ETA: 0s - loss: 0.2033 - categorical_accuracy: 0.9351\n",
            "Epoch 10: saving model to model_init_2022-05-1422_19_53.823618/model-00010-0.20333-0.93514-6.66441-0.21000.h5\n",
            "17/17 [==============================] - 62s 4s/step - loss: 0.2033 - categorical_accuracy: 0.9351 - val_loss: 6.6644 - val_categorical_accuracy: 0.2100 - lr: 4.0000e-05\n",
            "Epoch 11/15\n",
            "17/17 [==============================] - ETA: 0s - loss: 0.1875 - categorical_accuracy: 0.9442\n",
            "Epoch 11: saving model to model_init_2022-05-1422_19_53.823618/model-00011-0.18746-0.94419-6.48445-0.19000.h5\n",
            "17/17 [==============================] - 62s 4s/step - loss: 0.1875 - categorical_accuracy: 0.9442 - val_loss: 6.4845 - val_categorical_accuracy: 0.1900 - lr: 4.0000e-05\n",
            "Epoch 12/15\n",
            "17/17 [==============================] - ETA: 0s - loss: 0.1483 - categorical_accuracy: 0.9683\n",
            "Epoch 12: saving model to model_init_2022-05-1422_19_53.823618/model-00012-0.14829-0.96833-6.40864-0.24000.h5\n",
            "17/17 [==============================] - 60s 4s/step - loss: 0.1483 - categorical_accuracy: 0.9683 - val_loss: 6.4086 - val_categorical_accuracy: 0.2400 - lr: 4.0000e-05\n",
            "Epoch 13/15\n",
            "17/17 [==============================] - ETA: 0s - loss: 0.1711 - categorical_accuracy: 0.9623\n",
            "Epoch 13: saving model to model_init_2022-05-1422_19_53.823618/model-00013-0.17106-0.96229-6.55756-0.21000.h5\n",
            "\n",
            "Epoch 13: ReduceLROnPlateau reducing learning rate to 8.000000525498762e-06.\n",
            "17/17 [==============================] - 62s 4s/step - loss: 0.1711 - categorical_accuracy: 0.9623 - val_loss: 6.5576 - val_categorical_accuracy: 0.2100 - lr: 4.0000e-05\n",
            "Epoch 14/15\n",
            "17/17 [==============================] - ETA: 0s - loss: 0.1488 - categorical_accuracy: 0.9683\n",
            "Epoch 14: saving model to model_init_2022-05-1422_19_53.823618/model-00014-0.14883-0.96833-6.42271-0.21000.h5\n",
            "17/17 [==============================] - 62s 4s/step - loss: 0.1488 - categorical_accuracy: 0.9683 - val_loss: 6.4227 - val_categorical_accuracy: 0.2100 - lr: 8.0000e-06\n",
            "Epoch 15/15\n",
            "17/17 [==============================] - ETA: 0s - loss: 0.1385 - categorical_accuracy: 0.9744\n",
            "Epoch 15: saving model to model_init_2022-05-1422_19_53.823618/model-00015-0.13851-0.97436-6.10844-0.22000.h5\n",
            "17/17 [==============================] - 60s 4s/step - loss: 0.1385 - categorical_accuracy: 0.9744 - val_loss: 6.1084 - val_categorical_accuracy: 0.2200 - lr: 8.0000e-06\n"
          ]
        }
      ],
      "source": [
        "history_model1 = model.fit_generator(train_generator, steps_per_epoch=steps_per_epoch, epochs=num_epochs, verbose=1, \n",
        "                    callbacks=callbacks_list, validation_data=val_generator, \n",
        "                    validation_steps=validation_steps, class_weight=None, workers=1, initial_epoch=0)"
      ]
    },
    {
      "cell_type": "code",
      "execution_count": null,
      "metadata": {
        "id": "_J5i8ziq2dCn"
      },
      "outputs": [],
      "source": [
        "# function to plot the training/validation accuracies/losses.\n",
        "\n",
        "def plot(history):\n",
        "    fig, axes = plt.subplots(nrows=1, ncols=2, figsize=(15,4))\n",
        "    axes[0].plot(history.history['loss'])   \n",
        "    axes[0].plot(history.history['val_loss'])\n",
        "    axes[0].legend(['loss','val_loss'])\n",
        "\n",
        "    axes[1].plot(history.history['categorical_accuracy'])   \n",
        "    axes[1].plot(history.history['val_categorical_accuracy'])\n",
        "    axes[1].legend(['categorical_accuracy','val_categorical_accuracy'])"
      ]
    },
    {
      "cell_type": "code",
      "source": [
        "plot(history_model1)"
      ],
      "metadata": {
        "id": "Rl_AACyQPlYt",
        "colab": {
          "base_uri": "https://localhost:8080/",
          "height": 266
        },
        "outputId": "cd1d96ad-c67d-440f-fbe9-b6d879d29650"
      },
      "execution_count": null,
      "outputs": [
        {
          "output_type": "display_data",
          "data": {
            "text/plain": [
              "<Figure size 1080x288 with 2 Axes>"
            ],
            "image/png": "[encoded data removed]"
          },
          "metadata": {
            "needs_background": "light"
          }
        }
      ]
    },
    {
      "cell_type": "code",
      "source": [
        ""
      ],
      "metadata": {
        "id": "9-r2gINtPyEN"
      },
      "execution_count": null,
      "outputs": []
    },
    {
      "cell_type": "markdown",
      "source": [
        "### Model2"
      ],
      "metadata": {
        "id": "C0QFGJr6RRm9"
      }
    },
    {
      "cell_type": "code",
      "source": [
        "#image properties \n",
        "image_height=120\n",
        "image_width=120\n",
        "channels=3\n",
        "num_classes=5\n",
        "total_frames=30\n",
        "frames_to_sample=16\n",
        "batch_size=30\n",
        "num_epochs=25\n",
        "dense_neurons=256\n",
        "dropout=0.5\n",
        "filtersize=(2,2,2)\n",
        "print ('# epochs =', num_epochs)"
      ],
      "metadata": {
        "id": "MNQYlE5YRU4X",
        "colab": {
          "base_uri": "https://localhost:8080/"
        },
        "outputId": "711bd19c-8a31-4cdd-f41f-294136ce5e1b"
      },
      "execution_count": null,
      "outputs": [
        {
          "output_type": "stream",
          "name": "stdout",
          "text": [
            "# epochs = 25\n"
          ]
        }
      ]
    },
    {
      "cell_type": "code",
      "source": [
        "model2 = Sequential()\n",
        "model2.add(Conv3D(16, filtersize, padding='same',\n",
        "input_shape=(frames_to_sample,image_height,image_width,channels)))\n",
        "model2.add(Activation('relu'))\n",
        "model2.add(BatchNormalization())\n",
        "model2.add(MaxPooling3D(pool_size=(2, 2, 2)))\n",
        "\n",
        "model2.add(Conv3D(32, filtersize, padding='same'))\n",
        "model2.add(Activation('relu'))\n",
        "model2.add(BatchNormalization())\n",
        "model2.add(MaxPooling3D(pool_size=(2, 2, 2)))\n",
        "\n",
        "model2.add(Conv3D(64, filtersize, padding='same'))\n",
        "model2.add(Activation('relu'))\n",
        "model2.add(BatchNormalization())\n",
        "model2.add(MaxPooling3D(pool_size=(2, 2, 2)))\n",
        "model2.add(Conv3D(128, filtersize, padding='same'))\n",
        "model2.add(Activation('relu'))\n",
        "model2.add(BatchNormalization())\n",
        "model2.add(MaxPooling3D(pool_size=(2, 2, 2)))\n",
        "\n",
        "model2.add(Flatten())\n",
        "model2.add(Dense(dense_neurons,activation='relu'))\n",
        "model2.add(BatchNormalization())\n",
        "model2.add(Dropout(dropout))\n",
        "\n",
        "model2.add(Dense(dense_neurons,activation='relu'))\n",
        "model2.add(BatchNormalization())\n",
        "model2.add(Dropout(dropout))\n",
        "\n",
        "\n",
        "model2.add(Dense(num_classes,activation='softmax'))\n",
        "        \n",
        "optimiser = tf.optimizers.Adam(lr=0.0002)\n",
        "model2.compile(optimizer=optimiser, loss='categorical_crossentropy', metrics=['categorical_accuracy'])"
      ],
      "metadata": {
        "id": "n2VBUegcR_-Q"
      },
      "execution_count": null,
      "outputs": []
    },
    {
      "cell_type": "code",
      "source": [
        "model2.summary()"
      ],
      "metadata": {
        "id": "ZZmM7RU3VlQj",
        "colab": {
          "base_uri": "https://localhost:8080/"
        },
        "outputId": "cee0bd0e-4ca8-4980-8d02-a60ccde5bee2"
      },
      "execution_count": null,
      "outputs": [
        {
          "output_type": "stream",
          "name": "stdout",
          "text": [
            "Model: \"sequential_1\"\n",
            "_________________________________________________________________\n",
            " Layer (type)                Output Shape              Param #   \n",
            "=================================================================\n",
            " conv3d_4 (Conv3D)           (None, 16, 120, 120, 16)  400       \n",
            "                                                                 \n",
            " activation_4 (Activation)   (None, 16, 120, 120, 16)  0         \n",
            "                                                                 \n",
            " batch_normalization_6 (Batc  (None, 16, 120, 120, 16)  64       \n",
            " hNormalization)                                                 \n",
            "                                                                 \n",
            " max_pooling3d_4 (MaxPooling  (None, 8, 60, 60, 16)    0         \n",
            " 3D)                                                             \n",
            "                                                                 \n",
            " conv3d_5 (Conv3D)           (None, 8, 60, 60, 32)     4128      \n",
            "                                                                 \n",
            " activation_5 (Activation)   (None, 8, 60, 60, 32)     0         \n",
            "                                                                 \n",
            " batch_normalization_7 (Batc  (None, 8, 60, 60, 32)    128       \n",
            " hNormalization)                                                 \n",
            "                                                                 \n",
            " max_pooling3d_5 (MaxPooling  (None, 4, 30, 30, 32)    0         \n",
            " 3D)                                                             \n",
            "                                                                 \n",
            " conv3d_6 (Conv3D)           (None, 4, 30, 30, 64)     16448     \n",
            "                                                                 \n",
            " activation_6 (Activation)   (None, 4, 30, 30, 64)     0         \n",
            "                                                                 \n",
            " batch_normalization_8 (Batc  (None, 4, 30, 30, 64)    256       \n",
            " hNormalization)                                                 \n",
            "                                                                 \n",
            " max_pooling3d_6 (MaxPooling  (None, 2, 15, 15, 64)    0         \n",
            " 3D)                                                             \n",
            "                                                                 \n",
            " conv3d_7 (Conv3D)           (None, 2, 15, 15, 128)    65664     \n",
            "                                                                 \n",
            " activation_7 (Activation)   (None, 2, 15, 15, 128)    0         \n",
            "                                                                 \n",
            " batch_normalization_9 (Batc  (None, 2, 15, 15, 128)   512       \n",
            " hNormalization)                                                 \n",
            "                                                                 \n",
            " max_pooling3d_7 (MaxPooling  (None, 1, 7, 7, 128)     0         \n",
            " 3D)                                                             \n",
            "                                                                 \n",
            " flatten_1 (Flatten)         (None, 6272)              0         \n",
            "                                                                 \n",
            " dense_3 (Dense)             (None, 256)               1605888   \n",
            "                                                                 \n",
            " batch_normalization_10 (Bat  (None, 256)              1024      \n",
            " chNormalization)                                                \n",
            "                                                                 \n",
            " dropout_2 (Dropout)         (None, 256)               0         \n",
            "                                                                 \n",
            " dense_4 (Dense)             (None, 256)               65792     \n",
            "                                                                 \n",
            " batch_normalization_11 (Bat  (None, 256)              1024      \n",
            " chNormalization)                                                \n",
            "                                                                 \n",
            " dropout_3 (Dropout)         (None, 256)               0         \n",
            "                                                                 \n",
            " dense_5 (Dense)             (None, 5)                 1285      \n",
            "                                                                 \n",
            "=================================================================\n",
            "Total params: 1,762,613\n",
            "Trainable params: 1,761,109\n",
            "Non-trainable params: 1,504\n",
            "_________________________________________________________________\n"
          ]
        }
      ]
    },
    {
      "cell_type": "code",
      "source": [
        "print(\"Total Params:\", model2.count_params())\n"
      ],
      "metadata": {
        "id": "d1JQyQoaVoNo",
        "colab": {
          "base_uri": "https://localhost:8080/"
        },
        "outputId": "648af0cb-927e-43de-ff51-5b5f45ae6fef"
      },
      "execution_count": null,
      "outputs": [
        {
          "output_type": "stream",
          "name": "stdout",
          "text": [
            "Total Params: 1762613\n"
          ]
        }
      ]
    },
    {
      "cell_type": "code",
      "source": [
        "train_generator = generator(train_path, train_doc, batch_size)\n",
        "val_generator = generator(val_path, val_doc, batch_size)"
      ],
      "metadata": {
        "id": "dwPgyqYzWt8j"
      },
      "execution_count": null,
      "outputs": []
    },
    {
      "cell_type": "code",
      "source": [
        "model_name = 'model_init' + '_' + str(curr_dt_time).replace(' ','').replace(':','_') + '/'\n",
        "    \n",
        "if not os.path.exists(model_name):\n",
        "    os.mkdir(model_name)\n",
        "        \n",
        "filepath = model_name + 'model-{epoch:05d}-{loss:.5f}-{categorical_accuracy:.5f}-{val_loss:.5f}-{val_categorical_accuracy:.5f}.h5'\n",
        "\n",
        "checkpoint = ModelCheckpoint(filepath, monitor='val_loss', verbose=1, save_best_only=False, save_weights_only=False, mode='auto', period=1)\n",
        "\n",
        "LR = ReduceLROnPlateau(monitor='val_loss', factor=0.2, verbose=1, patience=4)\n",
        "callbacks_list = [checkpoint, LR]"
      ],
      "metadata": {
        "id": "x-YfutrRXKZL",
        "colab": {
          "base_uri": "https://localhost:8080/"
        },
        "outputId": "67781945-c50b-44ac-914a-d026d99d253a"
      },
      "execution_count": null,
      "outputs": [
        {
          "output_type": "stream",
          "name": "stdout",
          "text": [
            "WARNING:tensorflow:`period` argument is deprecated. Please use `save_freq` to specify the frequency in number of batches seen.\n"
          ]
        }
      ]
    },
    {
      "cell_type": "code",
      "source": [
        "if (num_train_sequences%batch_size) == 0:\n",
        "    steps_per_epoch = int(num_train_sequences/batch_size)\n",
        "else:\n",
        "    steps_per_epoch = (num_train_sequences//batch_size) + 1\n",
        "\n",
        "if (num_val_sequences%batch_size) == 0:\n",
        "    validation_steps = int(num_val_sequences/batch_size)\n",
        "else:\n",
        "    validation_steps = (num_val_sequences//batch_size) + 1"
      ],
      "metadata": {
        "id": "Nn-2mgO4XUjb"
      },
      "execution_count": null,
      "outputs": []
    },
    {
      "cell_type": "code",
      "source": [
        "history_model2 = model2.fit_generator(train_generator, steps_per_epoch=steps_per_epoch, epochs=num_epochs, verbose=1, \n",
        "                    callbacks=callbacks_list, validation_data=val_generator, \n",
        "                    validation_steps=validation_steps, class_weight=None, workers=1, initial_epoch=0)"
      ],
      "metadata": {
        "id": "M_CyD2FeXiBx",
        "colab": {
          "base_uri": "https://localhost:8080/"
        },
        "outputId": "3028ceb6-0f8c-44ce-fd2a-bddda8b0a019"
      },
      "execution_count": null,
      "outputs": [
        {
          "output_type": "stream",
          "name": "stdout",
          "text": [
            "Source path =  /content/gdrive/My Drive/Colab Notebooks/GestureRecognition/Project/Project_data/train ; batch size = 30\n",
            "Epoch 1/25\n",
            "23/23 [==============================] - ETA: 0s - loss: 2.0867 - categorical_accuracy: 0.3424 Source path =  /content/gdrive/My Drive/Colab Notebooks/GestureRecognition/Project/Project_data/val ; batch size = 30\n",
            "\n",
            "Epoch 1: saving model to model_init_2022-05-1422_19_53.823618/model-00001-2.08672-0.34238-1.77903-0.16000.h5\n",
            "23/23 [==============================] - 1010s 46s/step - loss: 2.0867 - categorical_accuracy: 0.3424 - val_loss: 1.7790 - val_categorical_accuracy: 0.1600 - lr: 2.0000e-04\n",
            "Epoch 2/25\n",
            "23/23 [==============================] - ETA: 0s - loss: 1.3285 - categorical_accuracy: 0.5490\n",
            "Epoch 2: saving model to model_init_2022-05-1422_19_53.823618/model-00002-1.32853-0.54902-2.89311-0.15000.h5\n",
            "23/23 [==============================] - 44s 2s/step - loss: 1.3285 - categorical_accuracy: 0.5490 - val_loss: 2.8931 - val_categorical_accuracy: 0.1500 - lr: 2.0000e-04\n",
            "Epoch 3/25\n",
            "23/23 [==============================] - ETA: 0s - loss: 1.0813 - categorical_accuracy: 0.6320\n",
            "Epoch 3: saving model to model_init_2022-05-1422_19_53.823618/model-00003-1.08134-0.63198-3.83579-0.18000.h5\n",
            "23/23 [==============================] - 47s 2s/step - loss: 1.0813 - categorical_accuracy: 0.6320 - val_loss: 3.8358 - val_categorical_accuracy: 0.1800 - lr: 2.0000e-04\n",
            "Epoch 4/25\n",
            "23/23 [==============================] - ETA: 0s - loss: 1.0679 - categorical_accuracy: 0.6350\n",
            "Epoch 4: saving model to model_init_2022-05-1422_19_53.823618/model-00004-1.06789-0.63499-5.23951-0.12000.h5\n",
            "23/23 [==============================] - 45s 2s/step - loss: 1.0679 - categorical_accuracy: 0.6350 - val_loss: 5.2395 - val_categorical_accuracy: 0.1200 - lr: 2.0000e-04\n",
            "Epoch 5/25\n",
            "23/23 [==============================] - ETA: 0s - loss: 0.7698 - categorical_accuracy: 0.7179\n",
            "Epoch 5: saving model to model_init_2022-05-1422_19_53.823618/model-00005-0.76984-0.71795-5.96038-0.16000.h5\n",
            "\n",
            "Epoch 5: ReduceLROnPlateau reducing learning rate to 3.9999998989515007e-05.\n",
            "23/23 [==============================] - 46s 2s/step - loss: 0.7698 - categorical_accuracy: 0.7179 - val_loss: 5.9604 - val_categorical_accuracy: 0.1600 - lr: 2.0000e-04\n",
            "Epoch 6/25\n",
            "23/23 [==============================] - ETA: 0s - loss: 0.6323 - categorical_accuracy: 0.7602\n",
            "Epoch 6: saving model to model_init_2022-05-1422_19_53.823618/model-00006-0.63227-0.76018-6.72176-0.17000.h5\n",
            "23/23 [==============================] - 47s 2s/step - loss: 0.6323 - categorical_accuracy: 0.7602 - val_loss: 6.7218 - val_categorical_accuracy: 0.1700 - lr: 4.0000e-05\n",
            "Epoch 7/25\n",
            "23/23 [==============================] - ETA: 0s - loss: 0.7699 - categorical_accuracy: 0.7300\n",
            "Epoch 7: saving model to model_init_2022-05-1422_19_53.823618/model-00007-0.76990-0.73002-8.01447-0.11000.h5\n",
            "23/23 [==============================] - 46s 2s/step - loss: 0.7699 - categorical_accuracy: 0.7300 - val_loss: 8.0145 - val_categorical_accuracy: 0.1100 - lr: 4.0000e-05\n",
            "Epoch 8/25\n",
            "23/23 [==============================] - ETA: 0s - loss: 0.6451 - categorical_accuracy: 0.7587\n",
            "Epoch 8: saving model to model_init_2022-05-1422_19_53.823618/model-00008-0.64514-0.75867-7.49953-0.19000.h5\n",
            "23/23 [==============================] - 45s 2s/step - loss: 0.6451 - categorical_accuracy: 0.7587 - val_loss: 7.4995 - val_categorical_accuracy: 0.1900 - lr: 4.0000e-05\n",
            "Epoch 9/25\n",
            "23/23 [==============================] - ETA: 0s - loss: 0.5983 - categorical_accuracy: 0.7753\n",
            "Epoch 9: saving model to model_init_2022-05-1422_19_53.823618/model-00009-0.59835-0.77526-7.85353-0.17000.h5\n",
            "\n",
            "Epoch 9: ReduceLROnPlateau reducing learning rate to 7.999999797903002e-06.\n",
            "23/23 [==============================] - 46s 2s/step - loss: 0.5983 - categorical_accuracy: 0.7753 - val_loss: 7.8535 - val_categorical_accuracy: 0.1700 - lr: 4.0000e-05\n",
            "Epoch 10/25\n",
            "23/23 [==============================] - ETA: 0s - loss: 0.5756 - categorical_accuracy: 0.7873\n",
            "Epoch 10: saving model to model_init_2022-05-1422_19_53.823618/model-00010-0.57560-0.78733-8.01877-0.19000.h5\n",
            "23/23 [==============================] - 46s 2s/step - loss: 0.5756 - categorical_accuracy: 0.7873 - val_loss: 8.0188 - val_categorical_accuracy: 0.1900 - lr: 8.0000e-06\n",
            "Epoch 11/25\n",
            "23/23 [==============================] - ETA: 0s - loss: 0.5934 - categorical_accuracy: 0.7858\n",
            "Epoch 11: saving model to model_init_2022-05-1422_19_53.823618/model-00011-0.59344-0.78582-7.54383-0.28000.h5\n",
            "23/23 [==============================] - 46s 2s/step - loss: 0.5934 - categorical_accuracy: 0.7858 - val_loss: 7.5438 - val_categorical_accuracy: 0.2800 - lr: 8.0000e-06\n",
            "Epoch 12/25\n",
            "23/23 [==============================] - ETA: 0s - loss: 0.5560 - categorical_accuracy: 0.7934\n",
            "Epoch 12: saving model to model_init_2022-05-1422_19_53.823618/model-00012-0.55602-0.79336-7.86229-0.23000.h5\n",
            "23/23 [==============================] - 45s 2s/step - loss: 0.5560 - categorical_accuracy: 0.7934 - val_loss: 7.8623 - val_categorical_accuracy: 0.2300 - lr: 8.0000e-06\n",
            "Epoch 13/25\n",
            "23/23 [==============================] - ETA: 0s - loss: 0.5677 - categorical_accuracy: 0.7919\n",
            "Epoch 13: saving model to model_init_2022-05-1422_19_53.823618/model-00013-0.56771-0.79186-7.43105-0.26000.h5\n",
            "\n",
            "Epoch 13: ReduceLROnPlateau reducing learning rate to 1.5999999959603884e-06.\n",
            "23/23 [==============================] - 46s 2s/step - loss: 0.5677 - categorical_accuracy: 0.7919 - val_loss: 7.4310 - val_categorical_accuracy: 0.2600 - lr: 8.0000e-06\n",
            "Epoch 14/25\n",
            "23/23 [==============================] - ETA: 0s - loss: 0.5576 - categorical_accuracy: 0.7979\n",
            "Epoch 14: saving model to model_init_2022-05-1422_19_53.823618/model-00014-0.55760-0.79789-7.03619-0.25000.h5\n",
            "23/23 [==============================] - 46s 2s/step - loss: 0.5576 - categorical_accuracy: 0.7979 - val_loss: 7.0362 - val_categorical_accuracy: 0.2500 - lr: 1.6000e-06\n",
            "Epoch 15/25\n",
            "23/23 [==============================] - ETA: 0s - loss: 0.5926 - categorical_accuracy: 0.7843\n",
            "Epoch 15: saving model to model_init_2022-05-1422_19_53.823618/model-00015-0.59255-0.78431-6.20202-0.28000.h5\n",
            "23/23 [==============================] - 46s 2s/step - loss: 0.5926 - categorical_accuracy: 0.7843 - val_loss: 6.2020 - val_categorical_accuracy: 0.2800 - lr: 1.6000e-06\n",
            "Epoch 16/25\n",
            "23/23 [==============================] - ETA: 0s - loss: 0.6436 - categorical_accuracy: 0.7707\n",
            "Epoch 16: saving model to model_init_2022-05-1422_19_53.823618/model-00016-0.64357-0.77074-5.78490-0.26000.h5\n",
            "23/23 [==============================] - 45s 2s/step - loss: 0.6436 - categorical_accuracy: 0.7707 - val_loss: 5.7849 - val_categorical_accuracy: 0.2600 - lr: 1.6000e-06\n",
            "Epoch 17/25\n",
            "23/23 [==============================] - ETA: 0s - loss: 0.5790 - categorical_accuracy: 0.7873\n",
            "Epoch 17: saving model to model_init_2022-05-1422_19_53.823618/model-00017-0.57897-0.78733-5.20700-0.25000.h5\n",
            "\n",
            "Epoch 17: ReduceLROnPlateau reducing learning rate to 3.200000037395512e-07.\n",
            "23/23 [==============================] - 46s 2s/step - loss: 0.5790 - categorical_accuracy: 0.7873 - val_loss: 5.2070 - val_categorical_accuracy: 0.2500 - lr: 1.6000e-06\n",
            "Epoch 18/25\n",
            "22/23 [===========================>..] - ETA: 1s - loss: 0.6017 - categorical_accuracy: 0.8045\n",
            "Epoch 18: saving model to model_init_2022-05-1422_19_53.823618/model-00018-0.60074-0.80392-4.79915-0.25000.h5\n",
            "23/23 [==============================] - 46s 2s/step - loss: 0.6007 - categorical_accuracy: 0.8039 - val_loss: 4.7991 - val_categorical_accuracy: 0.2500 - lr: 3.2000e-07\n",
            "Epoch 19/25\n",
            "23/23 [==============================] - ETA: 0s - loss: 0.5857 - categorical_accuracy: 0.8054\n",
            "Epoch 19: saving model to model_init_2022-05-1422_19_53.823618/model-00019-0.58567-0.80543-4.16719-0.27000.h5\n",
            "23/23 [==============================] - 47s 2s/step - loss: 0.5857 - categorical_accuracy: 0.8054 - val_loss: 4.1672 - val_categorical_accuracy: 0.2700 - lr: 3.2000e-07\n",
            "Epoch 20/25\n",
            "22/23 [===========================>..] - ETA: 1s - loss: 0.5575 - categorical_accuracy: 0.7970\n",
            "Epoch 20: saving model to model_init_2022-05-1422_19_53.823618/model-00020-0.55558-0.79789-3.36966-0.29000.h5\n",
            "23/23 [==============================] - 45s 2s/step - loss: 0.5556 - categorical_accuracy: 0.7979 - val_loss: 3.3697 - val_categorical_accuracy: 0.2900 - lr: 3.2000e-07\n",
            "Epoch 21/25\n",
            "22/23 [===========================>..] - ETA: 1s - loss: 0.6250 - categorical_accuracy: 0.7818\n",
            "Epoch 21: saving model to model_init_2022-05-1422_19_53.823618/model-00021-0.64019-0.77979-2.93545-0.31000.h5\n",
            "\n",
            "Epoch 21: ReduceLROnPlateau reducing learning rate to 6.399999961104187e-08.\n",
            "23/23 [==============================] - 46s 2s/step - loss: 0.6402 - categorical_accuracy: 0.7798 - val_loss: 2.9354 - val_categorical_accuracy: 0.3100 - lr: 3.2000e-07\n",
            "Epoch 22/25\n",
            "23/23 [==============================] - ETA: 0s - loss: 0.5817 - categorical_accuracy: 0.7949\n",
            "Epoch 22: saving model to model_init_2022-05-1422_19_53.823618/model-00022-0.58174-0.79487-2.05304-0.43000.h5\n",
            "23/23 [==============================] - 46s 2s/step - loss: 0.5817 - categorical_accuracy: 0.7949 - val_loss: 2.0530 - val_categorical_accuracy: 0.4300 - lr: 6.4000e-08\n",
            "Epoch 23/25\n",
            "23/23 [==============================] - ETA: 0s - loss: 0.6239 - categorical_accuracy: 0.7964\n",
            "Epoch 23: saving model to model_init_2022-05-1422_19_53.823618/model-00023-0.62391-0.79638-2.24757-0.32000.h5\n",
            "23/23 [==============================] - 46s 2s/step - loss: 0.6239 - categorical_accuracy: 0.7964 - val_loss: 2.2476 - val_categorical_accuracy: 0.3200 - lr: 6.4000e-08\n",
            "Epoch 24/25\n",
            "22/23 [===========================>..] - ETA: 1s - loss: 0.6067 - categorical_accuracy: 0.7879\n",
            "Epoch 24: saving model to model_init_2022-05-1422_19_53.823618/model-00024-0.61016-0.78733-1.55780-0.52000.h5\n",
            "23/23 [==============================] - 45s 2s/step - loss: 0.6102 - categorical_accuracy: 0.7873 - val_loss: 1.5578 - val_categorical_accuracy: 0.5200 - lr: 6.4000e-08\n",
            "Epoch 25/25\n",
            "23/23 [==============================] - ETA: 0s - loss: 0.6163 - categorical_accuracy: 0.7828\n",
            "Epoch 25: saving model to model_init_2022-05-1422_19_53.823618/model-00025-0.61627-0.78281-1.44485-0.51000.h5\n",
            "23/23 [==============================] - 46s 2s/step - loss: 0.6163 - categorical_accuracy: 0.7828 - val_loss: 1.4448 - val_categorical_accuracy: 0.5100 - lr: 6.4000e-08\n"
          ]
        }
      ]
    },
    {
      "cell_type": "code",
      "source": [
        "plot(history_model2)"
      ],
      "metadata": {
        "id": "Q9NWRSgt2IOn",
        "colab": {
          "base_uri": "https://localhost:8080/",
          "height": 265
        },
        "outputId": "c6967d48-4db7-4ede-c82c-aff95e595f5d"
      },
      "execution_count": null,
      "outputs": [
        {
          "output_type": "display_data",
          "data": {
            "text/plain": [
              "<Figure size 1080x288 with 2 Axes>"
            ],
            "image/png": "[encoded data removed]"
          },
          "metadata": {
            "needs_background": "light"
          }
        }
      ]
    },
    {
      "cell_type": "markdown",
      "source": [
        "Model3"
      ],
      "metadata": {
        "id": "OpG7d38N2cIW"
      }
    },
    {
      "cell_type": "markdown",
      "source": [
        "#### Reducing the number of parameters"
      ],
      "metadata": {
        "id": "d0sev6a34LkQ"
      }
    },
    {
      "cell_type": "code",
      "source": [
        "#image properties \n",
        "image_height=120\n",
        "image_width=120\n",
        "channels=3\n",
        "num_classes=5\n",
        "total_frames=30\n",
        "frames_to_sample=16\n",
        "batch_size=20\n",
        "num_epochs=25\n",
        "dense_neurons=64\n",
        "dropout=0.25\n",
        "filtersize=(3,3,3)\n",
        "print ('# epochs =', num_epochs)"
      ],
      "metadata": {
        "id": "qp7gP_d-2dqo",
        "colab": {
          "base_uri": "https://localhost:8080/"
        },
        "outputId": "25752bff-b935-41f5-f1ea-2f271ede7b7c"
      },
      "execution_count": null,
      "outputs": [
        {
          "output_type": "stream",
          "name": "stdout",
          "text": [
            "# epochs = 25\n"
          ]
        }
      ]
    },
    {
      "cell_type": "code",
      "source": [
        "model3 = Sequential()\n",
        "model3.add(Conv3D(16, filtersize, padding='same',\n",
        "                 input_shape=(frames_to_sample,image_height,image_width,channels)))\n",
        "model3.add(Activation('relu'))\n",
        "model3.add(BatchNormalization())\n",
        "model3.add(MaxPooling3D(pool_size=(2, 2, 2)))\n",
        "\n",
        "model3.add(Conv3D(32, filtersize, padding='same'))\n",
        "model3.add(Activation('relu'))\n",
        "model3.add(BatchNormalization())\n",
        "model3.add(MaxPooling3D(pool_size=(2, 2, 2)))\n",
        "\n",
        "model3.add(Conv3D(64, filtersize, padding='same'))\n",
        "model3.add(Activation('relu'))\n",
        "model3.add(BatchNormalization())\n",
        "model3.add(MaxPooling3D(pool_size=(2, 2, 2)))\n",
        "\n",
        "model3.add(Conv3D(128, filtersize, padding='same'))\n",
        "model3.add(Activation('relu'))\n",
        "model3.add(BatchNormalization())\n",
        "model3.add(MaxPooling3D(pool_size=(2, 2, 2)))\n",
        "     \n",
        "model3.add(Flatten())\n",
        "model3.add(Dense(dense_neurons,activation='relu'))\n",
        "model3.add(BatchNormalization())\n",
        "model3.add(Dropout(dropout))\n",
        "\n",
        "model3.add(Dense(dense_neurons,activation='relu'))\n",
        "model3.add(BatchNormalization())\n",
        "model3.add(Dropout(dropout))\n",
        "\n",
        "model3.add(Dense(num_classes,activation='softmax'))\n",
        "\n",
        "optimiser = tf.optimizers.Adam(lr=0.0002)\n",
        "model3.compile(optimizer=optimiser, loss='categorical_crossentropy', metrics=['categorical_accuracy'])"
      ],
      "metadata": {
        "id": "gz62Dlx92tnn"
      },
      "execution_count": null,
      "outputs": []
    },
    {
      "cell_type": "code",
      "source": [
        "model3.summary()"
      ],
      "metadata": {
        "id": "A2NYtSHM4bFr",
        "colab": {
          "base_uri": "https://localhost:8080/"
        },
        "outputId": "8ed7e486-c4b4-4fc1-aa70-4d72fa755e05"
      },
      "execution_count": null,
      "outputs": [
        {
          "output_type": "stream",
          "name": "stdout",
          "text": [
            "Model: \"sequential_2\"\n",
            "_________________________________________________________________\n",
            " Layer (type)                Output Shape              Param #   \n",
            "=================================================================\n",
            " conv3d_8 (Conv3D)           (None, 16, 120, 120, 16)  1312      \n",
            "                                                                 \n",
            " activation_8 (Activation)   (None, 16, 120, 120, 16)  0         \n",
            "                                                                 \n",
            " batch_normalization_12 (Bat  (None, 16, 120, 120, 16)  64       \n",
            " chNormalization)                                                \n",
            "                                                                 \n",
            " max_pooling3d_8 (MaxPooling  (None, 8, 60, 60, 16)    0         \n",
            " 3D)                                                             \n",
            "                                                                 \n",
            " conv3d_9 (Conv3D)           (None, 8, 60, 60, 32)     13856     \n",
            "                                                                 \n",
            " activation_9 (Activation)   (None, 8, 60, 60, 32)     0         \n",
            "                                                                 \n",
            " batch_normalization_13 (Bat  (None, 8, 60, 60, 32)    128       \n",
            " chNormalization)                                                \n",
            "                                                                 \n",
            " max_pooling3d_9 (MaxPooling  (None, 4, 30, 30, 32)    0         \n",
            " 3D)                                                             \n",
            "                                                                 \n",
            " conv3d_10 (Conv3D)          (None, 4, 30, 30, 64)     55360     \n",
            "                                                                 \n",
            " activation_10 (Activation)  (None, 4, 30, 30, 64)     0         \n",
            "                                                                 \n",
            " batch_normalization_14 (Bat  (None, 4, 30, 30, 64)    256       \n",
            " chNormalization)                                                \n",
            "                                                                 \n",
            " max_pooling3d_10 (MaxPoolin  (None, 2, 15, 15, 64)    0         \n",
            " g3D)                                                            \n",
            "                                                                 \n",
            " conv3d_11 (Conv3D)          (None, 2, 15, 15, 128)    221312    \n",
            "                                                                 \n",
            " activation_11 (Activation)  (None, 2, 15, 15, 128)    0         \n",
            "                                                                 \n",
            " batch_normalization_15 (Bat  (None, 2, 15, 15, 128)   512       \n",
            " chNormalization)                                                \n",
            "                                                                 \n",
            " max_pooling3d_11 (MaxPoolin  (None, 1, 7, 7, 128)     0         \n",
            " g3D)                                                            \n",
            "                                                                 \n",
            " flatten_2 (Flatten)         (None, 6272)              0         \n",
            "                                                                 \n",
            " dense_6 (Dense)             (None, 64)                401472    \n",
            "                                                                 \n",
            " batch_normalization_16 (Bat  (None, 64)               256       \n",
            " chNormalization)                                                \n",
            "                                                                 \n",
            " dropout_4 (Dropout)         (None, 64)                0         \n",
            "                                                                 \n",
            " dense_7 (Dense)             (None, 64)                4160      \n",
            "                                                                 \n",
            " batch_normalization_17 (Bat  (None, 64)               256       \n",
            " chNormalization)                                                \n",
            "                                                                 \n",
            " dropout_5 (Dropout)         (None, 64)                0         \n",
            "                                                                 \n",
            " dense_8 (Dense)             (None, 5)                 325       \n",
            "                                                                 \n",
            "=================================================================\n",
            "Total params: 699,269\n",
            "Trainable params: 698,533\n",
            "Non-trainable params: 736\n",
            "_________________________________________________________________\n"
          ]
        }
      ]
    },
    {
      "cell_type": "code",
      "source": [
        "print(\"Total Params:\", model3.count_params())"
      ],
      "metadata": {
        "id": "A2YK2VtQ8B_d",
        "colab": {
          "base_uri": "https://localhost:8080/"
        },
        "outputId": "1b6128b4-4971-4ea8-ceca-383323013c3b"
      },
      "execution_count": null,
      "outputs": [
        {
          "output_type": "stream",
          "name": "stdout",
          "text": [
            "Total Params: 699269\n"
          ]
        }
      ]
    },
    {
      "cell_type": "code",
      "source": [
        "train_generator = generator(train_path, train_doc, batch_size)\n",
        "val_generator = generator(val_path, val_doc, batch_size)"
      ],
      "metadata": {
        "id": "ELTvGqJc_igz"
      },
      "execution_count": null,
      "outputs": []
    },
    {
      "cell_type": "code",
      "source": [
        "model_name = 'model_init' + '_' + str(curr_dt_time).replace(' ','').replace(':','_') + '/'\n",
        "    \n",
        "if not os.path.exists(model_name):\n",
        "    os.mkdir(model_name)\n",
        "        \n",
        "filepath = model_name + 'model-{epoch:05d}-{loss:.5f}-{categorical_accuracy:.5f}-{val_loss:.5f}-{val_categorical_accuracy:.5f}.h5'\n",
        "\n",
        "checkpoint = ModelCheckpoint(filepath, monitor='val_loss', verbose=1, save_best_only=False, save_weights_only=False, mode='auto', period=1)\n",
        "\n",
        "LR = ReduceLROnPlateau(monitor='val_loss', factor=0.2, verbose=1, patience=4)\n",
        "callbacks_list = [checkpoint, LR]"
      ],
      "metadata": {
        "id": "xvY4T3k-_s7B",
        "colab": {
          "base_uri": "https://localhost:8080/"
        },
        "outputId": "4ea42ae0-7de1-4039-a4c5-fe853411a5c3"
      },
      "execution_count": null,
      "outputs": [
        {
          "output_type": "stream",
          "name": "stdout",
          "text": [
            "WARNING:tensorflow:`period` argument is deprecated. Please use `save_freq` to specify the frequency in number of batches seen.\n"
          ]
        }
      ]
    },
    {
      "cell_type": "code",
      "source": [
        "if (num_train_sequences%batch_size) == 0:\n",
        "    steps_per_epoch = int(num_train_sequences/batch_size)\n",
        "else:\n",
        "    steps_per_epoch = (num_train_sequences//batch_size) + 1\n",
        "\n",
        "if (num_val_sequences%batch_size) == 0:\n",
        "    validation_steps = int(num_val_sequences/batch_size)\n",
        "else:\n",
        "    validation_steps = (num_val_sequences//batch_size) + 1"
      ],
      "metadata": {
        "id": "DwqWakqh_0Ze"
      },
      "execution_count": null,
      "outputs": []
    },
    {
      "cell_type": "code",
      "source": [
        "history_model3 = model3.fit_generator(train_generator, steps_per_epoch=steps_per_epoch, epochs=num_epochs, verbose=1, \n",
        "                    callbacks=callbacks_list, validation_data=val_generator, \n",
        "                    validation_steps=validation_steps, class_weight=None, workers=1, initial_epoch=0)"
      ],
      "metadata": {
        "id": "tMR1rxTw_-_j",
        "colab": {
          "base_uri": "https://localhost:8080/"
        },
        "outputId": "be41b5b6-ec96-4b35-d44b-e5cecd2f2ae4"
      },
      "execution_count": null,
      "outputs": [
        {
          "output_type": "stream",
          "name": "stdout",
          "text": [
            "Source path =  /content/gdrive/My Drive/Colab Notebooks/GestureRecognition/Project/Project_data/train ; batch size = 20\n",
            "Epoch 1/25\n",
            "34/34 [==============================] - ETA: 0s - loss: 1.6466 - categorical_accuracy: 0.3846Source path =  /content/gdrive/My Drive/Colab Notebooks/GestureRecognition/Project/Project_data/val ; batch size = 20\n",
            "\n",
            "Epoch 1: saving model to model_init_2022-05-1422_19_53.823618/model-00001-1.64662-0.38462-1.86199-0.21000.h5\n",
            "34/34 [==============================] - 48s 1s/step - loss: 1.6466 - categorical_accuracy: 0.3846 - val_loss: 1.8620 - val_categorical_accuracy: 0.2100 - lr: 2.0000e-04\n",
            "Epoch 2/25\n",
            "34/34 [==============================] - ETA: 0s - loss: 1.1527 - categorical_accuracy: 0.5551\n",
            "Epoch 2: saving model to model_init_2022-05-1422_19_53.823618/model-00002-1.15269-0.55505-2.29719-0.23000.h5\n",
            "34/34 [==============================] - 45s 1s/step - loss: 1.1527 - categorical_accuracy: 0.5551 - val_loss: 2.2972 - val_categorical_accuracy: 0.2300 - lr: 2.0000e-04\n",
            "Epoch 3/25\n",
            "34/34 [==============================] - ETA: 0s - loss: 0.9814 - categorical_accuracy: 0.6275\n",
            "Epoch 3: saving model to model_init_2022-05-1422_19_53.823618/model-00003-0.98142-0.62745-3.72216-0.19000.h5\n",
            "34/34 [==============================] - 47s 1s/step - loss: 0.9814 - categorical_accuracy: 0.6275 - val_loss: 3.7222 - val_categorical_accuracy: 0.1900 - lr: 2.0000e-04\n",
            "Epoch 4/25\n",
            "34/34 [==============================] - ETA: 0s - loss: 0.8766 - categorical_accuracy: 0.6561\n",
            "Epoch 4: saving model to model_init_2022-05-1422_19_53.823618/model-00004-0.87664-0.65611-4.84485-0.22000.h5\n",
            "34/34 [==============================] - 46s 1s/step - loss: 0.8766 - categorical_accuracy: 0.6561 - val_loss: 4.8448 - val_categorical_accuracy: 0.2200 - lr: 2.0000e-04\n",
            "Epoch 5/25\n",
            "34/34 [==============================] - ETA: 0s - loss: 0.7827 - categorical_accuracy: 0.7225\n",
            "Epoch 5: saving model to model_init_2022-05-1422_19_53.823618/model-00005-0.78273-0.72247-4.81787-0.22000.h5\n",
            "\n",
            "Epoch 5: ReduceLROnPlateau reducing learning rate to 3.9999998989515007e-05.\n",
            "34/34 [==============================] - 46s 1s/step - loss: 0.7827 - categorical_accuracy: 0.7225 - val_loss: 4.8179 - val_categorical_accuracy: 0.2200 - lr: 2.0000e-04\n",
            "Epoch 6/25\n",
            "34/34 [==============================] - ETA: 0s - loss: 0.6607 - categorical_accuracy: 0.7526\n",
            "Epoch 6: saving model to model_init_2022-05-1422_19_53.823618/model-00006-0.66068-0.75264-4.47991-0.22000.h5\n",
            "34/34 [==============================] - 47s 1s/step - loss: 0.6607 - categorical_accuracy: 0.7526 - val_loss: 4.4799 - val_categorical_accuracy: 0.2200 - lr: 4.0000e-05\n",
            "Epoch 7/25\n",
            "34/34 [==============================] - ETA: 0s - loss: 0.6356 - categorical_accuracy: 0.7798\n",
            "Epoch 7: saving model to model_init_2022-05-1422_19_53.823618/model-00007-0.63562-0.77979-4.03168-0.28000.h5\n",
            "34/34 [==============================] - 46s 1s/step - loss: 0.6356 - categorical_accuracy: 0.7798 - val_loss: 4.0317 - val_categorical_accuracy: 0.2800 - lr: 4.0000e-05\n",
            "Epoch 8/25\n",
            "34/34 [==============================] - ETA: 0s - loss: 0.5390 - categorical_accuracy: 0.8100\n",
            "Epoch 8: saving model to model_init_2022-05-1422_19_53.823618/model-00008-0.53900-0.80995-4.31317-0.22000.h5\n",
            "34/34 [==============================] - 47s 1s/step - loss: 0.5390 - categorical_accuracy: 0.8100 - val_loss: 4.3132 - val_categorical_accuracy: 0.2200 - lr: 4.0000e-05\n",
            "Epoch 9/25\n",
            "34/34 [==============================] - ETA: 0s - loss: 0.5559 - categorical_accuracy: 0.8024\n",
            "Epoch 9: saving model to model_init_2022-05-1422_19_53.823618/model-00009-0.55585-0.80241-4.06376-0.25000.h5\n",
            "\n",
            "Epoch 9: ReduceLROnPlateau reducing learning rate to 7.999999797903002e-06.\n",
            "34/34 [==============================] - 46s 1s/step - loss: 0.5559 - categorical_accuracy: 0.8024 - val_loss: 4.0638 - val_categorical_accuracy: 0.2500 - lr: 4.0000e-05\n",
            "Epoch 10/25\n",
            "34/34 [==============================] - ETA: 0s - loss: 0.5217 - categorical_accuracy: 0.8069\n",
            "Epoch 10: saving model to model_init_2022-05-1422_19_53.823618/model-00010-0.52172-0.80694-3.74558-0.26000.h5\n",
            "34/34 [==============================] - 46s 1s/step - loss: 0.5217 - categorical_accuracy: 0.8069 - val_loss: 3.7456 - val_categorical_accuracy: 0.2600 - lr: 8.0000e-06\n",
            "Epoch 11/25\n",
            "34/34 [==============================] - ETA: 0s - loss: 0.5168 - categorical_accuracy: 0.8190\n",
            "Epoch 11: saving model to model_init_2022-05-1422_19_53.823618/model-00011-0.51678-0.81900-3.20248-0.29000.h5\n",
            "34/34 [==============================] - 46s 1s/step - loss: 0.5168 - categorical_accuracy: 0.8190 - val_loss: 3.2025 - val_categorical_accuracy: 0.2900 - lr: 8.0000e-06\n",
            "Epoch 12/25\n",
            "34/34 [==============================] - ETA: 0s - loss: 0.5302 - categorical_accuracy: 0.7994\n",
            "Epoch 12: saving model to model_init_2022-05-1422_19_53.823618/model-00012-0.53021-0.79940-2.92575-0.31000.h5\n",
            "34/34 [==============================] - 46s 1s/step - loss: 0.5302 - categorical_accuracy: 0.7994 - val_loss: 2.9257 - val_categorical_accuracy: 0.3100 - lr: 8.0000e-06\n",
            "Epoch 13/25\n",
            "34/34 [==============================] - ETA: 0s - loss: 0.5214 - categorical_accuracy: 0.8100\n",
            "Epoch 13: saving model to model_init_2022-05-1422_19_53.823618/model-00013-0.52144-0.80995-2.33946-0.37000.h5\n",
            "\n",
            "Epoch 13: ReduceLROnPlateau reducing learning rate to 1.5999999959603884e-06.\n",
            "34/34 [==============================] - 47s 1s/step - loss: 0.5214 - categorical_accuracy: 0.8100 - val_loss: 2.3395 - val_categorical_accuracy: 0.3700 - lr: 8.0000e-06\n",
            "Epoch 14/25\n",
            "34/34 [==============================] - ETA: 0s - loss: 0.4614 - categorical_accuracy: 0.8582\n",
            "Epoch 14: saving model to model_init_2022-05-1422_19_53.823618/model-00014-0.46140-0.85822-2.10731-0.32000.h5\n",
            "34/34 [==============================] - 47s 1s/step - loss: 0.4614 - categorical_accuracy: 0.8582 - val_loss: 2.1073 - val_categorical_accuracy: 0.3200 - lr: 1.6000e-06\n",
            "Epoch 15/25\n",
            "34/34 [==============================] - ETA: 0s - loss: 0.5038 - categorical_accuracy: 0.8205\n",
            "Epoch 15: saving model to model_init_2022-05-1422_19_53.823618/model-00015-0.50377-0.82051-1.63353-0.45000.h5\n",
            "34/34 [==============================] - 46s 1s/step - loss: 0.5038 - categorical_accuracy: 0.8205 - val_loss: 1.6335 - val_categorical_accuracy: 0.4500 - lr: 1.6000e-06\n",
            "Epoch 16/25\n",
            "34/34 [==============================] - ETA: 0s - loss: 0.4930 - categorical_accuracy: 0.8371\n",
            "Epoch 16: saving model to model_init_2022-05-1422_19_53.823618/model-00016-0.49299-0.83710-1.37201-0.54000.h5\n",
            "34/34 [==============================] - 46s 1s/step - loss: 0.4930 - categorical_accuracy: 0.8371 - val_loss: 1.3720 - val_categorical_accuracy: 0.5400 - lr: 1.6000e-06\n",
            "Epoch 17/25\n",
            "34/34 [==============================] - ETA: 0s - loss: 0.4667 - categorical_accuracy: 0.8401\n",
            "Epoch 17: saving model to model_init_2022-05-1422_19_53.823618/model-00017-0.46666-0.84012-1.18631-0.60000.h5\n",
            "34/34 [==============================] - 46s 1s/step - loss: 0.4667 - categorical_accuracy: 0.8401 - val_loss: 1.1863 - val_categorical_accuracy: 0.6000 - lr: 1.6000e-06\n",
            "Epoch 18/25\n",
            "34/34 [==============================] - ETA: 0s - loss: 0.4467 - categorical_accuracy: 0.8462\n",
            "Epoch 18: saving model to model_init_2022-05-1422_19_53.823618/model-00018-0.44669-0.84615-0.97875-0.67000.h5\n",
            "34/34 [==============================] - 46s 1s/step - loss: 0.4467 - categorical_accuracy: 0.8462 - val_loss: 0.9787 - val_categorical_accuracy: 0.6700 - lr: 1.6000e-06\n",
            "Epoch 19/25\n",
            "34/34 [==============================] - ETA: 0s - loss: 0.4768 - categorical_accuracy: 0.8326\n",
            "Epoch 19: saving model to model_init_2022-05-1422_19_53.823618/model-00019-0.47676-0.83258-0.96299-0.74000.h5\n",
            "34/34 [==============================] - 46s 1s/step - loss: 0.4768 - categorical_accuracy: 0.8326 - val_loss: 0.9630 - val_categorical_accuracy: 0.7400 - lr: 1.6000e-06\n",
            "Epoch 20/25\n",
            "34/34 [==============================] - ETA: 0s - loss: 0.5086 - categorical_accuracy: 0.8160\n",
            "Epoch 20: saving model to model_init_2022-05-1422_19_53.823618/model-00020-0.50863-0.81599-0.89563-0.68000.h5\n",
            "34/34 [==============================] - 46s 1s/step - loss: 0.5086 - categorical_accuracy: 0.8160 - val_loss: 0.8956 - val_categorical_accuracy: 0.6800 - lr: 1.6000e-06\n",
            "Epoch 21/25\n",
            "34/34 [==============================] - ETA: 0s - loss: 0.4733 - categorical_accuracy: 0.8386\n",
            "Epoch 21: saving model to model_init_2022-05-1422_19_53.823618/model-00021-0.47331-0.83861-0.80034-0.77000.h5\n",
            "34/34 [==============================] - 47s 1s/step - loss: 0.4733 - categorical_accuracy: 0.8386 - val_loss: 0.8003 - val_categorical_accuracy: 0.7700 - lr: 1.6000e-06\n",
            "Epoch 22/25\n",
            "34/34 [==============================] - ETA: 0s - loss: 0.5118 - categorical_accuracy: 0.8235\n",
            "Epoch 22: saving model to model_init_2022-05-1422_19_53.823618/model-00022-0.51179-0.82353-0.74904-0.79000.h5\n",
            "34/34 [==============================] - 46s 1s/step - loss: 0.5118 - categorical_accuracy: 0.8235 - val_loss: 0.7490 - val_categorical_accuracy: 0.7900 - lr: 1.6000e-06\n",
            "Epoch 23/25\n",
            "34/34 [==============================] - ETA: 0s - loss: 0.4839 - categorical_accuracy: 0.8416\n",
            "Epoch 23: saving model to model_init_2022-05-1422_19_53.823618/model-00023-0.48385-0.84163-0.81942-0.81000.h5\n",
            "34/34 [==============================] - 46s 1s/step - loss: 0.4839 - categorical_accuracy: 0.8416 - val_loss: 0.8194 - val_categorical_accuracy: 0.8100 - lr: 1.6000e-06\n",
            "Epoch 24/25\n",
            "34/34 [==============================] - ETA: 0s - loss: 0.4589 - categorical_accuracy: 0.8401\n",
            "Epoch 24: saving model to model_init_2022-05-1422_19_53.823618/model-00024-0.45888-0.84012-0.70218-0.80000.h5\n",
            "34/34 [==============================] - 46s 1s/step - loss: 0.4589 - categorical_accuracy: 0.8401 - val_loss: 0.7022 - val_categorical_accuracy: 0.8000 - lr: 1.6000e-06\n",
            "Epoch 25/25\n",
            "34/34 [==============================] - ETA: 0s - loss: 0.4770 - categorical_accuracy: 0.8462\n",
            "Epoch 25: saving model to model_init_2022-05-1422_19_53.823618/model-00025-0.47697-0.84615-0.75320-0.79000.h5\n",
            "34/34 [==============================] - 46s 1s/step - loss: 0.4770 - categorical_accuracy: 0.8462 - val_loss: 0.7532 - val_categorical_accuracy: 0.7900 - lr: 1.6000e-06\n"
          ]
        }
      ]
    },
    {
      "cell_type": "code",
      "source": [
        "plot(history_model3)"
      ],
      "metadata": {
        "id": "l5e0N0mZGc4F",
        "colab": {
          "base_uri": "https://localhost:8080/",
          "height": 266
        },
        "outputId": "4d9f59c1-1355-472e-a19d-a59886a14a37"
      },
      "execution_count": null,
      "outputs": [
        {
          "output_type": "display_data",
          "data": {
            "text/plain": [
              "<Figure size 1080x288 with 2 Axes>"
            ],
            "image/png": "[encoded data removed]"
          },
          "metadata": {
            "needs_background": "light"
          }
        }
      ]
    },
    {
      "cell_type": "markdown",
      "source": [
        "### Model 4"
      ],
      "metadata": {
        "id": "UQi0w_J8L2y3"
      }
    },
    {
      "cell_type": "markdown",
      "source": [
        "LSTM"
      ],
      "metadata": {
        "id": "fXZxr210LoPe"
      }
    },
    {
      "cell_type": "code",
      "source": [
        "#image properties \n",
        "image_height=120\n",
        "image_width=120\n",
        "channels=3\n",
        "num_classes=5\n",
        "total_frames=30\n",
        "frames_to_sample=18\n",
        "batch_size=20\n",
        "num_epochs=20\n",
        "dense_neurons=128\n",
        "lstm_cells=128\n",
        "dropout=0.25\n",
        "filtersize=(3,3,3)\n",
        "print ('# epochs =', num_epochs)"
      ],
      "metadata": {
        "id": "6kOwR1XLbtpS",
        "colab": {
          "base_uri": "https://localhost:8080/"
        },
        "outputId": "dbe016d7-74e0-4d61-9126-265efe83e650"
      },
      "execution_count": null,
      "outputs": [
        {
          "output_type": "stream",
          "name": "stdout",
          "text": [
            "# epochs = 20\n"
          ]
        }
      ]
    },
    {
      "cell_type": "code",
      "source": [
        "model4 = Sequential()\n",
        "\n",
        "model4.add(TimeDistributed(Conv2D(16, (3, 3) , padding='same', activation='relu'),\n",
        "                                  input_shape=(frames_to_sample,image_height,image_width,channels)))\n",
        "model4.add(TimeDistributed(BatchNormalization()))\n",
        "model4.add(TimeDistributed(MaxPooling2D((2, 2))))\n",
        "        \n",
        "model4.add(TimeDistributed(Conv2D(32, (3, 3) , padding='same', activation='relu')))\n",
        "model4.add(TimeDistributed(BatchNormalization()))\n",
        "model4.add(TimeDistributed(MaxPooling2D((2, 2))))\n",
        "        \n",
        "model4.add(TimeDistributed(Conv2D(64, (3, 3) , padding='same', activation='relu')))\n",
        "model4.add(TimeDistributed(BatchNormalization()))\n",
        "model4.add(TimeDistributed(MaxPooling2D((2, 2))))\n",
        "        \n",
        "model4.add(TimeDistributed(Conv2D(128, (3, 3) , padding='same', activation='relu')))\n",
        "model4.add(TimeDistributed(BatchNormalization()))\n",
        "model4.add(TimeDistributed(MaxPooling2D((2, 2))))\n",
        "        \n",
        "model4.add(TimeDistributed(Conv2D(256, (3, 3) , padding='same', activation='relu')))\n",
        "model4.add(TimeDistributed(BatchNormalization()))\n",
        "model4.add(TimeDistributed(MaxPooling2D((2, 2))))\n",
        "        \n",
        "        #model.add(TimeDistributed(Conv2D(512, (2, 2) , padding='valid', activation='relu')))\n",
        "       # model.add(TimeDistributed(BatchNormalization()))\n",
        "       # model.add(TimeDistributed(MaxPooling2D((2, 2))))\n",
        "\n",
        "model4.add(TimeDistributed(Flatten()))\n",
        "\n",
        "\n",
        "model4.add(LSTM(lstm_cells))\n",
        "model4.add(Dropout(dropout))\n",
        "        \n",
        "model4.add(Dense(dense_neurons,activation='relu'))\n",
        "model4.add(Dropout(dropout))\n",
        "        \n",
        "model4.add(Dense(num_classes, activation='softmax'))\n",
        "optimiser = tf.optimizers.Adam()\n",
        "model4.compile(optimizer=optimiser, loss='categorical_crossentropy', metrics=['categorical_accuracy'])"
      ],
      "metadata": {
        "id": "JUd_O29jbuqa"
      },
      "execution_count": null,
      "outputs": []
    },
    {
      "cell_type": "code",
      "source": [
        "model4.summary()"
      ],
      "metadata": {
        "id": "_OOrO26id2BZ",
        "colab": {
          "base_uri": "https://localhost:8080/"
        },
        "outputId": "fcb9e231-e6df-497d-d972-5c3880a4da37"
      },
      "execution_count": null,
      "outputs": [
        {
          "output_type": "stream",
          "name": "stdout",
          "text": [
            "Model: \"sequential_3\"\n",
            "_________________________________________________________________\n",
            " Layer (type)                Output Shape              Param #   \n",
            "=================================================================\n",
            " time_distributed (TimeDistr  (None, 18, 120, 120, 16)  448      \n",
            " ibuted)                                                         \n",
            "                                                                 \n",
            " time_distributed_1 (TimeDis  (None, 18, 120, 120, 16)  64       \n",
            " tributed)                                                       \n",
            "                                                                 \n",
            " time_distributed_2 (TimeDis  (None, 18, 60, 60, 16)   0         \n",
            " tributed)                                                       \n",
            "                                                                 \n",
            " time_distributed_3 (TimeDis  (None, 18, 60, 60, 32)   4640      \n",
            " tributed)                                                       \n",
            "                                                                 \n",
            " time_distributed_4 (TimeDis  (None, 18, 60, 60, 32)   128       \n",
            " tributed)                                                       \n",
            "                                                                 \n",
            " time_distributed_5 (TimeDis  (None, 18, 30, 30, 32)   0         \n",
            " tributed)                                                       \n",
            "                                                                 \n",
            " time_distributed_6 (TimeDis  (None, 18, 30, 30, 64)   18496     \n",
            " tributed)                                                       \n",
            "                                                                 \n",
            " time_distributed_7 (TimeDis  (None, 18, 30, 30, 64)   256       \n",
            " tributed)                                                       \n",
            "                                                                 \n",
            " time_distributed_8 (TimeDis  (None, 18, 15, 15, 64)   0         \n",
            " tributed)                                                       \n",
            "                                                                 \n",
            " time_distributed_9 (TimeDis  (None, 18, 15, 15, 128)  73856     \n",
            " tributed)                                                       \n",
            "                                                                 \n",
            " time_distributed_10 (TimeDi  (None, 18, 15, 15, 128)  512       \n",
            " stributed)                                                      \n",
            "                                                                 \n",
            " time_distributed_11 (TimeDi  (None, 18, 7, 7, 128)    0         \n",
            " stributed)                                                      \n",
            "                                                                 \n",
            " time_distributed_12 (TimeDi  (None, 18, 7, 7, 256)    295168    \n",
            " stributed)                                                      \n",
            "                                                                 \n",
            " time_distributed_13 (TimeDi  (None, 18, 7, 7, 256)    1024      \n",
            " stributed)                                                      \n",
            "                                                                 \n",
            " time_distributed_14 (TimeDi  (None, 18, 3, 3, 256)    0         \n",
            " stributed)                                                      \n",
            "                                                                 \n",
            " time_distributed_15 (TimeDi  (None, 18, 2304)         0         \n",
            " stributed)                                                      \n",
            "                                                                 \n",
            " lstm (LSTM)                 (None, 128)               1245696   \n",
            "                                                                 \n",
            " dropout_6 (Dropout)         (None, 128)               0         \n",
            "                                                                 \n",
            " dense_9 (Dense)             (None, 128)               16512     \n",
            "                                                                 \n",
            " dropout_7 (Dropout)         (None, 128)               0         \n",
            "                                                                 \n",
            " dense_10 (Dense)            (None, 5)                 645       \n",
            "                                                                 \n",
            "=================================================================\n",
            "Total params: 1,657,445\n",
            "Trainable params: 1,656,453\n",
            "Non-trainable params: 992\n",
            "_________________________________________________________________\n"
          ]
        }
      ]
    },
    {
      "cell_type": "code",
      "source": [
        "print(\"Total Params:\", model4.count_params())"
      ],
      "metadata": {
        "id": "evPDpjgTd5Fd",
        "colab": {
          "base_uri": "https://localhost:8080/"
        },
        "outputId": "78e02b44-4d62-444b-9ebe-3a2316a1f8b9"
      },
      "execution_count": null,
      "outputs": [
        {
          "output_type": "stream",
          "name": "stdout",
          "text": [
            "Total Params: 1657445\n"
          ]
        }
      ]
    },
    {
      "cell_type": "code",
      "source": [
        "train_generator = generator(train_path, train_doc, batch_size)\n",
        "val_generator = generator(val_path, val_doc, batch_size)"
      ],
      "metadata": {
        "id": "EiNPIQ7Lepsj"
      },
      "execution_count": null,
      "outputs": []
    },
    {
      "cell_type": "code",
      "source": [
        "model_name = 'model_init' + '_' + str(curr_dt_time).replace(' ','').replace(':','_') + '/'\n",
        "    \n",
        "if not os.path.exists(model_name):\n",
        "    os.mkdir(model_name)\n",
        "        \n",
        "filepath = model_name + 'model-{epoch:05d}-{loss:.5f}-{categorical_accuracy:.5f}-{val_loss:.5f}-{val_categorical_accuracy:.5f}.h5'\n",
        "\n",
        "checkpoint = ModelCheckpoint(filepath, monitor='val_loss', verbose=1, save_best_only=False, save_weights_only=False, mode='auto', period=1)\n",
        "\n",
        "LR = ReduceLROnPlateau(monitor='val_loss', factor=0.2, verbose=1, patience=4)\n",
        "callbacks_list = [checkpoint, LR]"
      ],
      "metadata": {
        "id": "RjnZNcr5exd_",
        "colab": {
          "base_uri": "https://localhost:8080/"
        },
        "outputId": "96ecbe7e-dae8-4ecf-cd1f-285c73ab75c7"
      },
      "execution_count": null,
      "outputs": [
        {
          "output_type": "stream",
          "name": "stdout",
          "text": [
            "WARNING:tensorflow:`period` argument is deprecated. Please use `save_freq` to specify the frequency in number of batches seen.\n"
          ]
        }
      ]
    },
    {
      "cell_type": "code",
      "source": [
        "if (num_train_sequences%batch_size) == 0:\n",
        "    steps_per_epoch = int(num_train_sequences/batch_size)\n",
        "else:\n",
        "    steps_per_epoch = (num_train_sequences//batch_size) + 1\n",
        "\n",
        "if (num_val_sequences%batch_size) == 0:\n",
        "    validation_steps = int(num_val_sequences/batch_size)\n",
        "else:\n",
        "    validation_steps = (num_val_sequences//batch_size) + 1"
      ],
      "metadata": {
        "id": "LNpd3C7re--7"
      },
      "execution_count": null,
      "outputs": []
    },
    {
      "cell_type": "code",
      "source": [
        "history_model4 = model4.fit_generator(train_generator, steps_per_epoch=steps_per_epoch, epochs=num_epochs, verbose=1, \n",
        "                    callbacks=callbacks_list, validation_data=val_generator, \n",
        "                    validation_steps=validation_steps, class_weight=None, workers=1, initial_epoch=0)"
      ],
      "metadata": {
        "id": "XAQqRYvwfIZ4",
        "colab": {
          "base_uri": "https://localhost:8080/"
        },
        "outputId": "e85058a5-4158-4daf-c67c-02fc09e9dcb5"
      },
      "execution_count": null,
      "outputs": [
        {
          "output_type": "stream",
          "name": "stdout",
          "text": [
            "Source path =  /content/gdrive/My Drive/Colab Notebooks/GestureRecognition/Project/Project_data/train ; batch size = 20\n",
            "Epoch 1/20\n",
            "34/34 [==============================] - ETA: 0s - loss: 1.4137 - categorical_accuracy: 0.3952 Source path =  /content/gdrive/My Drive/Colab Notebooks/GestureRecognition/Project/Project_data/val ; batch size = 20\n",
            "\n",
            "Epoch 1: saving model to model_init_2022-05-1422_19_53.823618/model-00001-1.41366-0.39517-1.76341-0.18000.h5\n",
            "34/34 [==============================] - 544s 16s/step - loss: 1.4137 - categorical_accuracy: 0.3952 - val_loss: 1.7634 - val_categorical_accuracy: 0.1800 - lr: 0.0010\n",
            "Epoch 2/20\n",
            "34/34 [==============================] - ETA: 0s - loss: 1.0770 - categorical_accuracy: 0.5762\n",
            "Epoch 2: saving model to model_init_2022-05-1422_19_53.823618/model-00002-1.07697-0.57617-1.71093-0.26000.h5\n",
            "34/34 [==============================] - 53s 2s/step - loss: 1.0770 - categorical_accuracy: 0.5762 - val_loss: 1.7109 - val_categorical_accuracy: 0.2600 - lr: 0.0010\n",
            "Epoch 3/20\n",
            "34/34 [==============================] - ETA: 0s - loss: 0.9428 - categorical_accuracy: 0.6410\n",
            "Epoch 3: saving model to model_init_2022-05-1422_19_53.823618/model-00003-0.94278-0.64103-2.38518-0.24000.h5\n",
            "34/34 [==============================] - 52s 2s/step - loss: 0.9428 - categorical_accuracy: 0.6410 - val_loss: 2.3852 - val_categorical_accuracy: 0.2400 - lr: 0.0010\n",
            "Epoch 4/20\n",
            "34/34 [==============================] - ETA: 0s - loss: 0.7560 - categorical_accuracy: 0.7044\n",
            "Epoch 4: saving model to model_init_2022-05-1422_19_53.823618/model-00004-0.75604-0.70437-2.47244-0.17000.h5\n",
            "34/34 [==============================] - 53s 2s/step - loss: 0.7560 - categorical_accuracy: 0.7044 - val_loss: 2.4724 - val_categorical_accuracy: 0.1700 - lr: 0.0010\n",
            "Epoch 5/20\n",
            "34/34 [==============================] - ETA: 0s - loss: 0.6433 - categorical_accuracy: 0.7677\n",
            "Epoch 5: saving model to model_init_2022-05-1422_19_53.823618/model-00005-0.64332-0.76772-2.79638-0.23000.h5\n",
            "34/34 [==============================] - 53s 2s/step - loss: 0.6433 - categorical_accuracy: 0.7677 - val_loss: 2.7964 - val_categorical_accuracy: 0.2300 - lr: 0.0010\n",
            "Epoch 6/20\n",
            "34/34 [==============================] - ETA: 0s - loss: 0.5915 - categorical_accuracy: 0.7813\n",
            "Epoch 6: saving model to model_init_2022-05-1422_19_53.823618/model-00006-0.59148-0.78130-2.20512-0.26000.h5\n",
            "\n",
            "Epoch 6: ReduceLROnPlateau reducing learning rate to 0.00020000000949949026.\n",
            "34/34 [==============================] - 53s 2s/step - loss: 0.5915 - categorical_accuracy: 0.7813 - val_loss: 2.2051 - val_categorical_accuracy: 0.2600 - lr: 0.0010\n",
            "Epoch 7/20\n",
            "34/34 [==============================] - ETA: 0s - loss: 0.4530 - categorical_accuracy: 0.8371\n",
            "Epoch 7: saving model to model_init_2022-05-1422_19_53.823618/model-00007-0.45303-0.83710-2.46342-0.17000.h5\n",
            "34/34 [==============================] - 53s 2s/step - loss: 0.4530 - categorical_accuracy: 0.8371 - val_loss: 2.4634 - val_categorical_accuracy: 0.1700 - lr: 2.0000e-04\n",
            "Epoch 8/20\n",
            "34/34 [==============================] - ETA: 0s - loss: 0.3321 - categorical_accuracy: 0.8974\n",
            "Epoch 8: saving model to model_init_2022-05-1422_19_53.823618/model-00008-0.33210-0.89744-2.12190-0.33000.h5\n",
            "34/34 [==============================] - 53s 2s/step - loss: 0.3321 - categorical_accuracy: 0.8974 - val_loss: 2.1219 - val_categorical_accuracy: 0.3300 - lr: 2.0000e-04\n",
            "Epoch 9/20\n",
            "34/34 [==============================] - ETA: 0s - loss: 0.2760 - categorical_accuracy: 0.9170\n",
            "Epoch 9: saving model to model_init_2022-05-1422_19_53.823618/model-00009-0.27598-0.91704-2.59739-0.26000.h5\n",
            "34/34 [==============================] - 53s 2s/step - loss: 0.2760 - categorical_accuracy: 0.9170 - val_loss: 2.5974 - val_categorical_accuracy: 0.2600 - lr: 2.0000e-04\n",
            "Epoch 10/20\n",
            "34/34 [==============================] - ETA: 0s - loss: 0.2203 - categorical_accuracy: 0.9336\n",
            "Epoch 10: saving model to model_init_2022-05-1422_19_53.823618/model-00010-0.22034-0.93363-2.72220-0.29000.h5\n",
            "\n",
            "Epoch 10: ReduceLROnPlateau reducing learning rate to 4.0000001899898055e-05.\n",
            "34/34 [==============================] - 53s 2s/step - loss: 0.2203 - categorical_accuracy: 0.9336 - val_loss: 2.7222 - val_categorical_accuracy: 0.2900 - lr: 2.0000e-04\n",
            "Epoch 11/20\n",
            "34/34 [==============================] - ETA: 0s - loss: 0.1867 - categorical_accuracy: 0.9517\n",
            "Epoch 11: saving model to model_init_2022-05-1422_19_53.823618/model-00011-0.18671-0.95173-2.60992-0.38000.h5\n",
            "34/34 [==============================] - 53s 2s/step - loss: 0.1867 - categorical_accuracy: 0.9517 - val_loss: 2.6099 - val_categorical_accuracy: 0.3800 - lr: 4.0000e-05\n",
            "Epoch 12/20\n",
            "34/34 [==============================] - ETA: 0s - loss: 0.1481 - categorical_accuracy: 0.9744\n",
            "Epoch 12: saving model to model_init_2022-05-1422_19_53.823618/model-00012-0.14813-0.97436-2.55795-0.35000.h5\n",
            "34/34 [==============================] - 52s 2s/step - loss: 0.1481 - categorical_accuracy: 0.9744 - val_loss: 2.5580 - val_categorical_accuracy: 0.3500 - lr: 4.0000e-05\n",
            "Epoch 13/20\n",
            "34/34 [==============================] - ETA: 0s - loss: 0.1585 - categorical_accuracy: 0.9578\n",
            "Epoch 13: saving model to model_init_2022-05-1422_19_53.823618/model-00013-0.15851-0.95777-2.02249-0.43000.h5\n",
            "34/34 [==============================] - 53s 2s/step - loss: 0.1585 - categorical_accuracy: 0.9578 - val_loss: 2.0225 - val_categorical_accuracy: 0.4300 - lr: 4.0000e-05\n",
            "Epoch 14/20\n",
            "34/34 [==============================] - ETA: 0s - loss: 0.1750 - categorical_accuracy: 0.9532\n",
            "Epoch 14: saving model to model_init_2022-05-1422_19_53.823618/model-00014-0.17495-0.95324-1.78470-0.46000.h5\n",
            "\n",
            "Epoch 14: ReduceLROnPlateau reducing learning rate to 8.000000525498762e-06.\n",
            "34/34 [==============================] - 53s 2s/step - loss: 0.1750 - categorical_accuracy: 0.9532 - val_loss: 1.7847 - val_categorical_accuracy: 0.4600 - lr: 4.0000e-05\n",
            "Epoch 15/20\n",
            "34/34 [==============================] - ETA: 0s - loss: 0.1390 - categorical_accuracy: 0.9668\n",
            "Epoch 15: saving model to model_init_2022-05-1422_19_53.823618/model-00015-0.13899-0.96682-1.29687-0.61000.h5\n",
            "34/34 [==============================] - 53s 2s/step - loss: 0.1390 - categorical_accuracy: 0.9668 - val_loss: 1.2969 - val_categorical_accuracy: 0.6100 - lr: 8.0000e-06\n",
            "Epoch 16/20\n",
            "34/34 [==============================] - ETA: 0s - loss: 0.1256 - categorical_accuracy: 0.9759\n",
            "Epoch 16: saving model to model_init_2022-05-1422_19_53.823618/model-00016-0.12563-0.97587-0.93993-0.68000.h5\n",
            "34/34 [==============================] - 53s 2s/step - loss: 0.1256 - categorical_accuracy: 0.9759 - val_loss: 0.9399 - val_categorical_accuracy: 0.6800 - lr: 8.0000e-06\n",
            "Epoch 17/20\n",
            "34/34 [==============================] - ETA: 0s - loss: 0.1234 - categorical_accuracy: 0.9744\n",
            "Epoch 17: saving model to model_init_2022-05-1422_19_53.823618/model-00017-0.12337-0.97436-0.89514-0.68000.h5\n",
            "34/34 [==============================] - 53s 2s/step - loss: 0.1234 - categorical_accuracy: 0.9744 - val_loss: 0.8951 - val_categorical_accuracy: 0.6800 - lr: 8.0000e-06\n",
            "Epoch 18/20\n",
            "34/34 [==============================] - ETA: 0s - loss: 0.1328 - categorical_accuracy: 0.9713\n",
            "Epoch 18: saving model to model_init_2022-05-1422_19_53.823618/model-00018-0.13284-0.97134-0.48801-0.82000.h5\n",
            "34/34 [==============================] - 52s 2s/step - loss: 0.1328 - categorical_accuracy: 0.9713 - val_loss: 0.4880 - val_categorical_accuracy: 0.8200 - lr: 8.0000e-06\n",
            "Epoch 19/20\n",
            "34/34 [==============================] - ETA: 0s - loss: 0.1553 - categorical_accuracy: 0.9593\n",
            "Epoch 19: saving model to model_init_2022-05-1422_19_53.823618/model-00019-0.15533-0.95928-0.55962-0.81000.h5\n",
            "34/34 [==============================] - 53s 2s/step - loss: 0.1553 - categorical_accuracy: 0.9593 - val_loss: 0.5596 - val_categorical_accuracy: 0.8100 - lr: 8.0000e-06\n",
            "Epoch 20/20\n",
            "34/34 [==============================] - ETA: 0s - loss: 0.1361 - categorical_accuracy: 0.9668\n",
            "Epoch 20: saving model to model_init_2022-05-1422_19_53.823618/model-00020-0.13613-0.96682-0.63319-0.81000.h5\n",
            "34/34 [==============================] - 53s 2s/step - loss: 0.1361 - categorical_accuracy: 0.9668 - val_loss: 0.6332 - val_categorical_accuracy: 0.8100 - lr: 8.0000e-06\n"
          ]
        }
      ]
    },
    {
      "cell_type": "code",
      "source": [
        "plot(history_model4)"
      ],
      "metadata": {
        "id": "c82L8C4txk4N",
        "colab": {
          "base_uri": "https://localhost:8080/",
          "height": 265
        },
        "outputId": "e71e6693-2000-4f98-b38c-abf7b2ea3e6f"
      },
      "execution_count": null,
      "outputs": [
        {
          "output_type": "display_data",
          "data": {
            "text/plain": [
              "<Figure size 1080x288 with 2 Axes>"
            ],
            "image/png": "[encoded data removed]"
          },
          "metadata": {
            "needs_background": "light"
          }
        }
      ]
    },
    {
      "cell_type": "code",
      "source": [
        ""
      ],
      "metadata": {
        "id": "oLhLF02mxouD"
      },
      "execution_count": null,
      "outputs": []
    }
  ],
  "metadata": {
    "kernelspec": {
      "display_name": "Python 3",
      "language": "python",
      "name": "python3"
    },
    "language_info": {
      "codemirror_mode": {
        "name": "ipython",
        "version": 3
      },
      "file_extension": ".py",
      "mimetype": "text/x-python",
      "name": "python",
      "nbconvert_exporter": "python",
      "pygments_lexer": "ipython3",
      "version": "3.6.5"
    },
    "colab": {
      "name": "Neural_Nets_Project_Starter_Code.ipynb",
      "provenance": [],
      "collapsed_sections": [],
      "machine_shape": "hm"
    },
    "accelerator": "GPU"
  },
  "nbformat": 4,
  "nbformat_minor": 0
}